{
 "cells": [
  {
   "cell_type": "code",
   "execution_count": 1,
   "metadata": {},
   "outputs": [],
   "source": [
    "import geopandas as gp\n",
    "import csv\n",
    "import pandas as pd\n",
    "from shapely.geometry import LineString\n",
    "import mysql.connector\n",
    "from shapely.geometry import Polygon, mapping\n",
    "import datetime\n",
    "import json "
   ]
  },
  {
   "cell_type": "code",
   "execution_count": null,
   "metadata": {},
   "outputs": [],
   "source": [
    "file = \"./PA/pa_final.geojson\"    \n",
    "\n",
    "precincts = gp.read_file(file)"
   ]
  },
  {
   "cell_type": "code",
   "execution_count": null,
   "metadata": {},
   "outputs": [],
   "source": [
    "#reader = csv.DictReader('../data/NY_county.csv')\n",
    "reader = csv.reader(open('./PA_county.csv', 'r'))\n",
    "d = {}\n",
    "for row in reader:\n",
    "    #id = row['County FIPS']\n",
    "    key = row[3]\n",
    "    value = row[5]\n",
    "    d[key] = value\n",
    "    \n",
    "#print (d)"
   ]
  },
  {
   "cell_type": "code",
   "execution_count": null,
   "metadata": {
    "scrolled": false
   },
   "outputs": [],
   "source": [
    "precincts.head()"
   ]
  },
  {
   "cell_type": "code",
   "execution_count": null,
   "metadata": {},
   "outputs": [],
   "source": [
    "#Rename columns\n",
    "precincts = precincts.drop (columns = ['STATEFP10', 'VTDI10', 'NAME10', 'NAMELSAD10', 'LSAD10',\n",
    "                         'MTFCC10','FUNCSTAT10','ALAND10', 'AWATER10', 'INTPTLAT10', 'INTPTLON10', ])\n",
    "                       # 'cartodb_id', 'other', 'other_perc', 'male', 'male_perce', 'female',\n",
    "                        # 'female_per', 'total_regi', 'registered', 'id', 'data', 'dem_rep_di'])\n",
    "\n",
    "precincts.rename(columns = {\"GEOID10\":\"id\"}, inplace = True)\n",
    "#df.rename(columns = {\"GEOID10\":\"canonical\"}, inplace = True)\n",
    "#precincts.rename(columns = {\"NEIGHBORS\":\"neighbors\"}, inplace = True)\n",
    "#df.rename(columns = {\"INTPTLON10\":\"centerY\"}, inplace = True)\n",
    "\n",
    "#Add type columns\n",
    "precincts.insert(2, 'type', 'ORIGINAL')\n",
    "precincts.insert(3, 'centerX', None)\n",
    "precincts.insert(4, 'centerY', None)\n",
    "precincts.insert(5, 'area', None)\n",
    "precincts.insert(6, 'neighbors', None)\n",
    "precincts.insert(7, 'canonical', None)\n",
    "\n",
    "#precincts = precincts.drop (columns = ['SUM'])\n",
    "precincts.head()"
   ]
  },
  {
   "cell_type": "code",
   "execution_count": null,
   "metadata": {},
   "outputs": [],
   "source": [
    "new_precinct = pd."
   ]
  },
  {
   "cell_type": "code",
   "execution_count": null,
   "metadata": {},
   "outputs": [],
   "source": [
    "#Canonical name\n",
    "state = 'PA'\n",
    "for i, row in precincts.iterrows():   \n",
    "    id = str(precincts.at[i, 'VTDST10']).zfill(5)\n",
    "    countyId = precincts.at[i, 'COUNTYFP10']\n",
    "    #print (countyId)\n",
    "    canonicalId = state + ' ' + d[countyId] + ' ' + id\n",
    "    precincts.at[i, 'canonical'] = canonicalId\n",
    "    precincts.at[i, 'id'] = '42' + str(precincts.at[i, 'COUNTYFP10']) + id\n",
    "    #print (canonicalId)\n",
    "\n",
    "precincts.head()"
   ]
  },
  {
   "cell_type": "code",
   "execution_count": 103,
   "metadata": {},
   "outputs": [
    {
     "data": {
      "text/html": [
       "<div>\n",
       "<style scoped>\n",
       "    .dataframe tbody tr th:only-of-type {\n",
       "        vertical-align: middle;\n",
       "    }\n",
       "\n",
       "    .dataframe tbody tr th {\n",
       "        vertical-align: top;\n",
       "    }\n",
       "\n",
       "    .dataframe thead th {\n",
       "        text-align: right;\n",
       "    }\n",
       "</style>\n",
       "<table border=\"1\" class=\"dataframe\">\n",
       "  <thead>\n",
       "    <tr style=\"text-align: right;\">\n",
       "      <th></th>\n",
       "      <th>type</th>\n",
       "      <th>centerX</th>\n",
       "      <th>centerY</th>\n",
       "      <th>area</th>\n",
       "      <th>neighbors</th>\n",
       "      <th>canonical</th>\n",
       "      <th>id</th>\n",
       "      <th>geometry</th>\n",
       "    </tr>\n",
       "  </thead>\n",
       "  <tbody>\n",
       "    <tr>\n",
       "      <th>0</th>\n",
       "      <td>ORIGINAL</td>\n",
       "      <td>41.157814</td>\n",
       "      <td>-80.479783</td>\n",
       "      <td>0.004278359631999892</td>\n",
       "      <td>4207300790, 4208500950, 4208501040, 4208500425...</td>\n",
       "      <td>PA Mercer 00960</td>\n",
       "      <td>4208500960</td>\n",
       "      <td>POLYGON ((-80.51922 41.18555, -80.51877 41.187...</td>\n",
       "    </tr>\n",
       "    <tr>\n",
       "      <th>1</th>\n",
       "      <td>ORIGINAL</td>\n",
       "      <td>41.680613</td>\n",
       "      <td>-80.04085000000001</td>\n",
       "      <td>0.0005506003439999464</td>\n",
       "      <td>4203900150, 4203900330, 4203900340, 4203900660</td>\n",
       "      <td>PA Crawford 00040</td>\n",
       "      <td>4203900040</td>\n",
       "      <td>POLYGON ((-80.05844 41.68391, -80.04599 41.684...</td>\n",
       "    </tr>\n",
       "    <tr>\n",
       "      <th>2</th>\n",
       "      <td>ORIGINAL</td>\n",
       "      <td>41.743054</td>\n",
       "      <td>-79.840985</td>\n",
       "      <td>0.007933951458499875</td>\n",
       "      <td>4203900030, 4203900070, 4203900400, 4203900360...</td>\n",
       "      <td>PA Crawford 00010</td>\n",
       "      <td>4203900010</td>\n",
       "      <td>POLYGON ((-79.90979 41.77394, -79.83310 41.775...</td>\n",
       "    </tr>\n",
       "    <tr>\n",
       "      <th>3</th>\n",
       "      <td>ORIGINAL</td>\n",
       "      <td>41.803153</td>\n",
       "      <td>-80.462641</td>\n",
       "      <td>0.01028330178850014</td>\n",
       "      <td>4203900090, 4203900420, 4204900040</td>\n",
       "      <td>PA Crawford 00020</td>\n",
       "      <td>4203900020</td>\n",
       "      <td>POLYGON ((-80.51935 41.84956, -80.40589 41.849...</td>\n",
       "    </tr>\n",
       "    <tr>\n",
       "      <th>4</th>\n",
       "      <td>ORIGINAL</td>\n",
       "      <td>41.812444</td>\n",
       "      <td>-79.836173</td>\n",
       "      <td>0.01073166413550007</td>\n",
       "      <td>4203900010, 4203900400, 4203900350, 4204901060...</td>\n",
       "      <td>PA Crawford 00030</td>\n",
       "      <td>4203900030</td>\n",
       "      <td>POLYGON ((-79.90998 41.85069, -79.76203 41.850...</td>\n",
       "    </tr>\n",
       "  </tbody>\n",
       "</table>\n",
       "</div>"
      ],
      "text/plain": [
       "       type    centerX             centerY                   area  \\\n",
       "0  ORIGINAL  41.157814          -80.479783   0.004278359631999892   \n",
       "1  ORIGINAL  41.680613  -80.04085000000001  0.0005506003439999464   \n",
       "2  ORIGINAL  41.743054          -79.840985   0.007933951458499875   \n",
       "3  ORIGINAL  41.803153          -80.462641    0.01028330178850014   \n",
       "4  ORIGINAL  41.812444          -79.836173    0.01073166413550007   \n",
       "\n",
       "                                           neighbors          canonical  \\\n",
       "0  4207300790, 4208500950, 4208501040, 4208500425...    PA Mercer 00960   \n",
       "1     4203900150, 4203900330, 4203900340, 4203900660  PA Crawford 00040   \n",
       "2  4203900030, 4203900070, 4203900400, 4203900360...  PA Crawford 00010   \n",
       "3                 4203900090, 4203900420, 4204900040  PA Crawford 00020   \n",
       "4  4203900010, 4203900400, 4203900350, 4204901060...  PA Crawford 00030   \n",
       "\n",
       "           id                                           geometry  \n",
       "0  4208500960  POLYGON ((-80.51922 41.18555, -80.51877 41.187...  \n",
       "1  4203900040  POLYGON ((-80.05844 41.68391, -80.04599 41.684...  \n",
       "2  4203900010  POLYGON ((-79.90979 41.77394, -79.83310 41.775...  \n",
       "3  4203900020  POLYGON ((-80.51935 41.84956, -80.40589 41.849...  \n",
       "4  4203900030  POLYGON ((-79.90998 41.85069, -79.76203 41.850...  "
      ]
     },
     "execution_count": 103,
     "metadata": {},
     "output_type": "execute_result"
    }
   ],
   "source": [
    "#ADD area and centers\n",
    "for i, row in precincts.iterrows():\n",
    "    precincts.at[i, 'area'] = row.geometry.area\n",
    "    #bounds = row.geometry.bounds\n",
    "    #centerX = round((bounds[0] + bounds[2]) / 2, 6)\n",
    "    #centerY = round((bounds[1] + bounds[3]) / 2, 6)\n",
    "    #precincts.at[i, 'centerX'] = centerY\n",
    "    #precincts.at[i, 'centerY'] = centerX    \n",
    "\n",
    "precincts.head()"
   ]
  },
  {
   "cell_type": "code",
   "execution_count": null,
   "metadata": {},
   "outputs": [],
   "source": [
    "precincts = precincts.drop(columns = ['COUNTYFP10', 'VTDST10'])\n",
    "precincts.head()"
   ]
  },
  {
   "cell_type": "code",
   "execution_count": null,
   "metadata": {},
   "outputs": [],
   "source": [
    "precincts.to_file(\"./PA/PA_new.geojson\", driver='GeoJSON')\n",
    "precincts.head()"
   ]
  },
  {
   "cell_type": "code",
   "execution_count": null,
   "metadata": {},
   "outputs": [],
   "source": []
  },
  {
   "cell_type": "code",
   "execution_count": null,
   "metadata": {},
   "outputs": [],
   "source": [
    "mappingPrecinct = pd.read_excel('./PA/PA_GEOID_to_PRECINCT_C.xlsx')\n",
    "mappingPrecinct.head()"
   ]
  },
  {
   "cell_type": "code",
   "execution_count": null,
   "metadata": {},
   "outputs": [],
   "source": [
    "for i, row in mappingPrecinct.iterrows():\n",
    "    geoid = row['GEOID10']\n",
    "    original_id = geoid[5:].zfill(5)\n",
    "    precinct_c = str(row['PRECINCT_C']).zfill(5)\n",
    "    county_fips = geoid[:5]\n",
    "    mappingPrecinct.at[i, 'GEOID10'] = county_fips + original_id\n",
    "    mappingPrecinct.at[i, 'PRECINCT_C'] = county_fips + precinct_c\n",
    "mappingPrecinct.head()"
   ]
  },
  {
   "cell_type": "code",
   "execution_count": null,
   "metadata": {},
   "outputs": [],
   "source": [
    "duplicateRowsDF = mappingPrecinct[mappingPrecinct['PRECINCT_C'].duplicated()]\n",
    "duplicateRowsDF.shape"
   ]
  },
  {
   "cell_type": "code",
   "execution_count": null,
   "metadata": {},
   "outputs": [],
   "source": [
    "mappingPrecinct.drop_duplicates(subset =\"PRECINCT_C\", \n",
    "                     keep = False, inplace = True) "
   ]
  },
  {
   "cell_type": "code",
   "execution_count": null,
   "metadata": {},
   "outputs": [],
   "source": [
    "mappingDict = {}\n",
    "for i, row in mappingPrecinct.iterrows():\n",
    "    mappingDict[row['GEOID10']] = row['PRECINCT_C']\n",
    "print(mappingDict)"
   ]
  },
  {
   "cell_type": "code",
   "execution_count": null,
   "metadata": {},
   "outputs": [],
   "source": [
    "for i, row in precincts.iterrows():\n",
    "    if row['id'] in mappingDict.keys():\n",
    "        precincts.at[i, 'id'] = mappingDict[row['id']]"
   ]
  },
  {
   "cell_type": "code",
   "execution_count": null,
   "metadata": {},
   "outputs": [],
   "source": [
    "file = \"./PA/pa_final.geojson\"    \n",
    "\n",
    "precincts_new = gp.read_file(file)\n",
    "precincts_new.head()"
   ]
  },
  {
   "cell_type": "code",
   "execution_count": null,
   "metadata": {},
   "outputs": [],
   "source": [
    "precinct_dupl = precincts_new[precincts_new['id'].duplicated()]\n",
    "precinct_dupl.shape"
   ]
  },
  {
   "cell_type": "code",
   "execution_count": 61,
   "metadata": {},
   "outputs": [
    {
     "name": "stdout",
     "output_type": "stream",
     "text": [
      "09:05:14 0\n",
      "09:05:36 1000\n",
      "09:05:57 2000\n",
      "09:06:19 3000\n",
      "09:06:40 4000\n",
      "09:07:02 5000\n",
      "09:07:24 6000\n",
      "09:07:46 7000\n",
      "09:08:08 8000\n",
      "09:08:29 9000\n"
     ]
    },
    {
     "data": {
      "text/html": [
       "<div>\n",
       "<style scoped>\n",
       "    .dataframe tbody tr th:only-of-type {\n",
       "        vertical-align: middle;\n",
       "    }\n",
       "\n",
       "    .dataframe tbody tr th {\n",
       "        vertical-align: top;\n",
       "    }\n",
       "\n",
       "    .dataframe thead th {\n",
       "        text-align: right;\n",
       "    }\n",
       "</style>\n",
       "<table border=\"1\" class=\"dataframe\">\n",
       "  <thead>\n",
       "    <tr style=\"text-align: right;\">\n",
       "      <th></th>\n",
       "      <th>type</th>\n",
       "      <th>centerX</th>\n",
       "      <th>centerY</th>\n",
       "      <th>area</th>\n",
       "      <th>neighbors</th>\n",
       "      <th>canonical</th>\n",
       "      <th>id</th>\n",
       "      <th>geometry</th>\n",
       "    </tr>\n",
       "  </thead>\n",
       "  <tbody>\n",
       "    <tr>\n",
       "      <th>0</th>\n",
       "      <td>ORIGINAL</td>\n",
       "      <td>41.157814</td>\n",
       "      <td>-80.479783</td>\n",
       "      <td>0.004278359631999892</td>\n",
       "      <td>4207300790, 4208500950, 4208501040, 4208500425...</td>\n",
       "      <td>PA Mercer 00960</td>\n",
       "      <td>4208500960</td>\n",
       "      <td>POLYGON ((-80.51922 41.18555, -80.51877 41.187...</td>\n",
       "    </tr>\n",
       "    <tr>\n",
       "      <th>1</th>\n",
       "      <td>ORIGINAL</td>\n",
       "      <td>41.680613</td>\n",
       "      <td>-80.04085000000001</td>\n",
       "      <td>0.0005506003439999464</td>\n",
       "      <td>4203900150, 4203900330, 4203900340, 4203900660</td>\n",
       "      <td>PA Crawford 00040</td>\n",
       "      <td>4203900040</td>\n",
       "      <td>POLYGON ((-80.05844 41.68391, -80.04599 41.684...</td>\n",
       "    </tr>\n",
       "    <tr>\n",
       "      <th>2</th>\n",
       "      <td>ORIGINAL</td>\n",
       "      <td>41.743054</td>\n",
       "      <td>-79.840985</td>\n",
       "      <td>0.007933951458499875</td>\n",
       "      <td>4203900030, 4203900070, 4203900400, 4203900360...</td>\n",
       "      <td>PA Crawford 00010</td>\n",
       "      <td>4203900010</td>\n",
       "      <td>POLYGON ((-79.90979 41.77394, -79.83310 41.775...</td>\n",
       "    </tr>\n",
       "    <tr>\n",
       "      <th>3</th>\n",
       "      <td>ORIGINAL</td>\n",
       "      <td>41.803153</td>\n",
       "      <td>-80.462641</td>\n",
       "      <td>0.01028330178850014</td>\n",
       "      <td>4203900090, 4203900420, 4204900040</td>\n",
       "      <td>PA Crawford 00020</td>\n",
       "      <td>4203900020</td>\n",
       "      <td>POLYGON ((-80.51935 41.84956, -80.40589 41.849...</td>\n",
       "    </tr>\n",
       "    <tr>\n",
       "      <th>4</th>\n",
       "      <td>ORIGINAL</td>\n",
       "      <td>41.812444</td>\n",
       "      <td>-79.836173</td>\n",
       "      <td>0.01073166413550007</td>\n",
       "      <td>4203900010, 4203900400, 4203900350, 4204901060...</td>\n",
       "      <td>PA Crawford 00030</td>\n",
       "      <td>4203900030</td>\n",
       "      <td>POLYGON ((-79.90998 41.85069, -79.76203 41.850...</td>\n",
       "    </tr>\n",
       "  </tbody>\n",
       "</table>\n",
       "</div>"
      ],
      "text/plain": [
       "       type    centerX             centerY                   area  \\\n",
       "0  ORIGINAL  41.157814          -80.479783   0.004278359631999892   \n",
       "1  ORIGINAL  41.680613  -80.04085000000001  0.0005506003439999464   \n",
       "2  ORIGINAL  41.743054          -79.840985   0.007933951458499875   \n",
       "3  ORIGINAL  41.803153          -80.462641    0.01028330178850014   \n",
       "4  ORIGINAL  41.812444          -79.836173    0.01073166413550007   \n",
       "\n",
       "                                           neighbors          canonical  \\\n",
       "0  4207300790, 4208500950, 4208501040, 4208500425...    PA Mercer 00960   \n",
       "1     4203900150, 4203900330, 4203900340, 4203900660  PA Crawford 00040   \n",
       "2  4203900030, 4203900070, 4203900400, 4203900360...  PA Crawford 00010   \n",
       "3                 4203900090, 4203900420, 4204900040  PA Crawford 00020   \n",
       "4  4203900010, 4203900400, 4203900350, 4204901060...  PA Crawford 00030   \n",
       "\n",
       "           id                                           geometry  \n",
       "0  4208500960  POLYGON ((-80.51922 41.18555, -80.51877 41.187...  \n",
       "1  4203900040  POLYGON ((-80.05844 41.68391, -80.04599 41.684...  \n",
       "2  4203900010  POLYGON ((-79.90979 41.77394, -79.83310 41.775...  \n",
       "3  4203900020  POLYGON ((-80.51935 41.84956, -80.40589 41.849...  \n",
       "4  4203900030  POLYGON ((-79.90998 41.85069, -79.76203 41.850...  "
      ]
     },
     "execution_count": 61,
     "metadata": {},
     "output_type": "execute_result"
    }
   ],
   "source": [
    "### GENERATE NEIGHBORS\n",
    "\n",
    "#file = \"./PA/PA.geojson\"  \n",
    "#state_boundary = gp.read_file(file) # open file\n",
    "\n",
    "precincts[\"neighbors\"] = None  # add NEIGHBORS column\n",
    "\n",
    "for index, row in precincts.iterrows():\n",
    "    if index % 1000 == 0:\n",
    "        print (datetime.datetime.now().strftime(\"%H:%M:%S\"), index)\n",
    "        \n",
    "    neighbors = precincts[~precincts.geometry.disjoint(row.geometry)].id.tolist()\n",
    "    # remove own name from the list\n",
    "    neighbors = [ str(name) for name in neighbors if row.id != name ]\n",
    "    #print(neighbors)\n",
    "    # add names of neighbors as NEIGHBORS value\n",
    "    precincts.at[index, 'neighbors'] = \", \".join(neighbors)\n",
    "\n",
    "precincts.head()\n"
   ]
  },
  {
   "cell_type": "code",
   "execution_count": 87,
   "metadata": {},
   "outputs": [],
   "source": [
    "precincts.to_file(\"./PA/PA_precinct_c.geojson\", driver='GeoJSON')"
   ]
  },
  {
   "cell_type": "code",
   "execution_count": null,
   "metadata": {},
   "outputs": [],
   "source": [
    "def create_neighbors_df(neighbors, df):\n",
    "    neighbors = neighbors.split(',')\n",
    "    neighbors_df = df[df['id'].isin(neighbors)][['id', 'geometry']]\n",
    "    return neighbors_df "
   ]
  },
  {
   "cell_type": "code",
   "execution_count": null,
   "metadata": {},
   "outputs": [],
   "source": [
    "#INTERSECTIONS\n",
    "\n",
    "file = \"./PA/PA.geojson\"  \n",
    "precincts = gp.read_file(file) # open file\n",
    "precincts = precincts.drop(columns=['type', 'centerX', 'centerY', 'canonical'])\n",
    "precincts.head()"
   ]
  },
  {
   "cell_type": "code",
   "execution_count": null,
   "metadata": {},
   "outputs": [],
   "source": [
    "AREA_THRESHOLD = 1e-4\n",
    "intersections = gp.GeoDataFrame(crs = precincts.crs)\n",
    "\n",
    "for index, row in precincts.iterrows():\n",
    "    #For progress\n",
    "    if index % 1000 == 0:\n",
    "        print (datetime.datetime.now().strftime(\"%H:%M:%S\"), index)\n",
    "    neighbors = create_neighbors_df(row['neighbors'], precincts)\n",
    "    #print(neighbors)\n",
    "    # check if intersection occured\n",
    "    overlaps = neighbors[neighbors.geometry.overlaps(row.geometry)]['id'].tolist()\n",
    "    if len(overlaps) > 0:\n",
    "        # compare the area with threshold\n",
    "        for y in overlaps:\n",
    "            temp_area = gp.overlay(precincts.loc[precincts.id == y,], precincts.loc[precincts.id == row.id], how='intersection')\n",
    "            temp_area = temp_area.loc[temp_area.geometry.area >= AREA_THRESHOLD]\n",
    "            \n",
    "            if temp_area.shape[0] > 0:\n",
    "                intersections = gp.GeoDataFrame(pd.concat([temp_area, intersections], ignore_index=True),crs = precincts.crs)\n",
    "                intersections['sorted'] = intersections.apply(lambda y: sorted([y['id_1'],y['id_2']]), axis=1)\n",
    "                intersections['sorted'] = intersections.sorted.apply(lambda y: ''.join(y))\n",
    "                intersections = intersections.drop_duplicates('sorted')\n",
    "                intersections = intersections.reset_index()[['id_1','id_2','geometry']]\n",
    "                intersections = gp.GeoDataFrame(pd.concat([temp_area, intersections],ignore_index=True),crs=precincts.crs)"
   ]
  },
  {
   "cell_type": "code",
   "execution_count": 170,
   "metadata": {},
   "outputs": [
    {
     "data": {
      "text/html": [
       "<div>\n",
       "<style scoped>\n",
       "    .dataframe tbody tr th:only-of-type {\n",
       "        vertical-align: middle;\n",
       "    }\n",
       "\n",
       "    .dataframe tbody tr th {\n",
       "        vertical-align: top;\n",
       "    }\n",
       "\n",
       "    .dataframe thead th {\n",
       "        text-align: right;\n",
       "    }\n",
       "</style>\n",
       "<table border=\"1\" class=\"dataframe\">\n",
       "  <thead>\n",
       "    <tr style=\"text-align: right;\">\n",
       "      <th></th>\n",
       "      <th>geometry</th>\n",
       "    </tr>\n",
       "    <tr>\n",
       "      <th>type</th>\n",
       "      <th></th>\n",
       "    </tr>\n",
       "  </thead>\n",
       "  <tbody>\n",
       "    <tr>\n",
       "      <th>ORIGINAL</th>\n",
       "      <td>MULTIPOLYGON (((-76.33238 39.72130, -76.33703 ...</td>\n",
       "    </tr>\n",
       "  </tbody>\n",
       "</table>\n",
       "</div>"
      ],
      "text/plain": [
       "                                                   geometry\n",
       "type                                                       \n",
       "ORIGINAL  MULTIPOLYGON (((-76.33238 39.72130, -76.33703 ..."
      ]
     },
     "execution_count": 170,
     "metadata": {},
     "output_type": "execute_result"
    }
   ],
   "source": [
    "### GAPS\n",
    "\n",
    "file = \"./PA/PA_precinct_c.geojson\"\n",
    "precincts = gp.read_file(file)\n",
    "\n",
    "precincts_diss = precincts[['geometry', 'type']]\n",
    "precincts_diss = precincts_diss.dissolve(by='type')\n",
    "#precincts_diss = df.drop (columns = ['type', 'id', 'canonical', 'centerX', 'centerY', 'area'])\n",
    "\n",
    "precincts_diss.head()"
   ]
  },
  {
   "cell_type": "code",
   "execution_count": 171,
   "metadata": {},
   "outputs": [
    {
     "name": "stdout",
     "output_type": "stream",
     "text": [
      "[None]\n"
     ]
    },
    {
     "name": "stderr",
     "output_type": "stream",
     "text": [
      "C:\\ProgramData\\Anaconda3\\lib\\site-packages\\geopandas\\array.py:575: UserWarning: Only Polygon objects have interior rings. For other geometry types, None is returned.\n",
      "  \"Only Polygon objects have interior rings. For other \"\n"
     ]
    },
    {
     "ename": "TypeError",
     "evalue": "'NoneType' object is not subscriptable",
     "output_type": "error",
     "traceback": [
      "\u001b[1;31m---------------------------------------------------------------------------\u001b[0m",
      "\u001b[1;31mTypeError\u001b[0m                                 Traceback (most recent call last)",
      "\u001b[1;32m<ipython-input-171-b3430a41de5c>\u001b[0m in \u001b[0;36m<module>\u001b[1;34m\u001b[0m\n\u001b[0;32m      6\u001b[0m         \u001b[1;32mcontinue\u001b[0m\u001b[1;33m\u001b[0m\u001b[1;33m\u001b[0m\u001b[0m\n\u001b[0;32m      7\u001b[0m     \u001b[1;31m#print(i[0].coords[:])\u001b[0m\u001b[1;33m\u001b[0m\u001b[1;33m\u001b[0m\u001b[1;33m\u001b[0m\u001b[0m\n\u001b[1;32m----> 8\u001b[1;33m     \u001b[0mgaps\u001b[0m\u001b[1;33m.\u001b[0m\u001b[0mappend\u001b[0m\u001b[1;33m(\u001b[0m\u001b[0mPolygon\u001b[0m\u001b[1;33m(\u001b[0m\u001b[0mi\u001b[0m\u001b[1;33m[\u001b[0m\u001b[1;36m0\u001b[0m\u001b[1;33m]\u001b[0m\u001b[1;33m)\u001b[0m\u001b[1;33m)\u001b[0m\u001b[1;33m\u001b[0m\u001b[1;33m\u001b[0m\u001b[0m\n\u001b[0m\u001b[0;32m      9\u001b[0m \u001b[1;33m\u001b[0m\u001b[0m\n\u001b[0;32m     10\u001b[0m \u001b[0mgaps\u001b[0m \u001b[1;33m=\u001b[0m \u001b[0mgp\u001b[0m\u001b[1;33m.\u001b[0m\u001b[0mGeoDataFrame\u001b[0m\u001b[1;33m(\u001b[0m\u001b[0mgeometry\u001b[0m \u001b[1;33m=\u001b[0m \u001b[0mgaps\u001b[0m\u001b[1;33m,\u001b[0m \u001b[0mcrs\u001b[0m \u001b[1;33m=\u001b[0m \u001b[0mprecincts\u001b[0m\u001b[1;33m.\u001b[0m\u001b[0mcrs\u001b[0m\u001b[1;33m)\u001b[0m\u001b[1;33m\u001b[0m\u001b[1;33m\u001b[0m\u001b[0m\n",
      "\u001b[1;31mTypeError\u001b[0m: 'NoneType' object is not subscriptable"
     ]
    }
   ],
   "source": [
    "interior = precincts_diss.interiors.values.tolist()\n",
    "print(interior)\n",
    "gaps = []\n",
    "for i in interior:\n",
    "    if i == []:\n",
    "        continue\n",
    "    #print(i[0].coords[:])    \n",
    "    gaps.append(Polygon(i[0]))\n",
    "    \n",
    "gaps = gp.GeoDataFrame(geometry = gaps, crs = precincts.crs)\n",
    "gaps['feature_touches'] = gaps.geometry.apply(lambda y: precincts.loc[precincts.touches(y)]['id'].tolist())\n",
    "gaps.head()"
   ]
  },
  {
   "cell_type": "code",
   "execution_count": 95,
   "metadata": {},
   "outputs": [
    {
     "data": {
      "text/html": [
       "<div>\n",
       "<style scoped>\n",
       "    .dataframe tbody tr th:only-of-type {\n",
       "        vertical-align: middle;\n",
       "    }\n",
       "\n",
       "    .dataframe tbody tr th {\n",
       "        vertical-align: top;\n",
       "    }\n",
       "\n",
       "    .dataframe thead th {\n",
       "        text-align: right;\n",
       "    }\n",
       "</style>\n",
       "<table border=\"1\" class=\"dataframe\">\n",
       "  <thead>\n",
       "    <tr style=\"text-align: right;\">\n",
       "      <th></th>\n",
       "      <th>id</th>\n",
       "      <th>centerX</th>\n",
       "      <th>centerY</th>\n",
       "      <th>area</th>\n",
       "      <th>geometry</th>\n",
       "    </tr>\n",
       "  </thead>\n",
       "  <tbody>\n",
       "    <tr>\n",
       "      <th>0</th>\n",
       "      <td>PA</td>\n",
       "      <td>-77.6048035</td>\n",
       "      <td>41.1179355</td>\n",
       "      <td>12.7471968513065</td>\n",
       "      <td>MULTIPOLYGON (((-80.51935 41.84956, -80.51922 ...</td>\n",
       "    </tr>\n",
       "    <tr>\n",
       "      <th>1</th>\n",
       "      <td>KY</td>\n",
       "      <td>-85.76960750000001</td>\n",
       "      <td>37.82234</td>\n",
       "      <td>10.668081506716</td>\n",
       "      <td>MULTIPOLYGON (((-88.06133 37.50533, -88.06368 ...</td>\n",
       "    </tr>\n",
       "    <tr>\n",
       "      <th>2</th>\n",
       "      <td>NY</td>\n",
       "      <td>-75.77002999999999</td>\n",
       "      <td>42.7460485</td>\n",
       "      <td>15.58035125575651</td>\n",
       "      <td>MULTIPOLYGON (((-79.31214 42.68680, -79.14347 ...</td>\n",
       "    </tr>\n",
       "  </tbody>\n",
       "</table>\n",
       "</div>"
      ],
      "text/plain": [
       "   id             centerX     centerY               area  \\\n",
       "0  PA         -77.6048035  41.1179355   12.7471968513065   \n",
       "1  KY  -85.76960750000001    37.82234    10.668081506716   \n",
       "2  NY  -75.77002999999999  42.7460485  15.58035125575651   \n",
       "\n",
       "                                            geometry  \n",
       "0  MULTIPOLYGON (((-80.51935 41.84956, -80.51922 ...  \n",
       "1  MULTIPOLYGON (((-88.06133 37.50533, -88.06368 ...  \n",
       "2  MULTIPOLYGON (((-79.31214 42.68680, -79.14347 ...  "
      ]
     },
     "execution_count": 95,
     "metadata": {},
     "output_type": "execute_result"
    }
   ],
   "source": [
    "## MAP COVERAGE ERROR\n",
    "\n",
    "file_states = \"./States/states_boundary.geojson\"\n",
    "state_boundary = gp.read_file(file_states)\n",
    "state_boundary.head()"
   ]
  },
  {
   "cell_type": "code",
   "execution_count": 97,
   "metadata": {},
   "outputs": [
    {
     "data": {
      "text/html": [
       "<div>\n",
       "<style scoped>\n",
       "    .dataframe tbody tr th:only-of-type {\n",
       "        vertical-align: middle;\n",
       "    }\n",
       "\n",
       "    .dataframe tbody tr th {\n",
       "        vertical-align: top;\n",
       "    }\n",
       "\n",
       "    .dataframe thead th {\n",
       "        text-align: right;\n",
       "    }\n",
       "</style>\n",
       "<table border=\"1\" class=\"dataframe\">\n",
       "  <thead>\n",
       "    <tr style=\"text-align: right;\">\n",
       "      <th></th>\n",
       "      <th>type</th>\n",
       "      <th>centerX</th>\n",
       "      <th>centerY</th>\n",
       "      <th>area</th>\n",
       "      <th>neighbors</th>\n",
       "      <th>canonical</th>\n",
       "      <th>id</th>\n",
       "      <th>geometry</th>\n",
       "    </tr>\n",
       "  </thead>\n",
       "  <tbody>\n",
       "    <tr>\n",
       "      <th>0</th>\n",
       "      <td>ORIGINAL</td>\n",
       "      <td>41.157814</td>\n",
       "      <td>-80.479783</td>\n",
       "      <td>0.004278359631999892</td>\n",
       "      <td>4207300790, 4208500950, 4208501040, 4208500425...</td>\n",
       "      <td>PA Mercer 00960</td>\n",
       "      <td>4208500960</td>\n",
       "      <td>POLYGON ((-80.51922 41.18555, -80.51877 41.187...</td>\n",
       "    </tr>\n",
       "    <tr>\n",
       "      <th>1</th>\n",
       "      <td>ORIGINAL</td>\n",
       "      <td>41.680613</td>\n",
       "      <td>-80.04085000000001</td>\n",
       "      <td>0.0005506003439999464</td>\n",
       "      <td>4203900150, 4203900330, 4203900340, 4203900660</td>\n",
       "      <td>PA Crawford 00040</td>\n",
       "      <td>4203900040</td>\n",
       "      <td>POLYGON ((-80.05844 41.68391, -80.04599 41.684...</td>\n",
       "    </tr>\n",
       "  </tbody>\n",
       "</table>\n",
       "</div>"
      ],
      "text/plain": [
       "       type    centerX             centerY                   area  \\\n",
       "0  ORIGINAL  41.157814          -80.479783   0.004278359631999892   \n",
       "1  ORIGINAL  41.680613  -80.04085000000001  0.0005506003439999464   \n",
       "\n",
       "                                           neighbors          canonical  \\\n",
       "0  4207300790, 4208500950, 4208501040, 4208500425...    PA Mercer 00960   \n",
       "1     4203900150, 4203900330, 4203900340, 4203900660  PA Crawford 00040   \n",
       "\n",
       "           id                                           geometry  \n",
       "0  4208500960  POLYGON ((-80.51922 41.18555, -80.51877 41.187...  \n",
       "1  4203900040  POLYGON ((-80.05844 41.68391, -80.04599 41.684...  "
      ]
     },
     "execution_count": 97,
     "metadata": {},
     "output_type": "execute_result"
    }
   ],
   "source": [
    "file_precincts = \"./PA/PA_final.geojson\"\n",
    "precinct_boundary = gp.read_file(file_precincts)\n",
    "precinct_boundary.head(2)"
   ]
  },
  {
   "cell_type": "code",
   "execution_count": 107,
   "metadata": {},
   "outputs": [
    {
     "name": "stdout",
     "output_type": "stream",
     "text": [
      "Difference:  -2.0792022069440126\n"
     ]
    }
   ],
   "source": [
    "#Check difference between two areas\n",
    "STATE = 'PA'\n",
    "state = state_boundary[state_boundary['id'] == STATE]\n",
    "state_area = state_boundary.at[1, 'area']\n",
    "precinct_area = 0\n",
    "for i, row in precinct_boundary.iterrows():\n",
    "    precinct_area += float(row['area'])\n",
    "#print(precinct_area)\n",
    "print(\"Difference: \", float(state_area) - float(precinct_area))"
   ]
  },
  {
   "cell_type": "code",
   "execution_count": 108,
   "metadata": {},
   "outputs": [
    {
     "data": {
      "text/html": [
       "<div>\n",
       "<style scoped>\n",
       "    .dataframe tbody tr th:only-of-type {\n",
       "        vertical-align: middle;\n",
       "    }\n",
       "\n",
       "    .dataframe tbody tr th {\n",
       "        vertical-align: top;\n",
       "    }\n",
       "\n",
       "    .dataframe thead th {\n",
       "        text-align: right;\n",
       "    }\n",
       "</style>\n",
       "<table border=\"1\" class=\"dataframe\">\n",
       "  <thead>\n",
       "    <tr style=\"text-align: right;\">\n",
       "      <th></th>\n",
       "      <th>geometry</th>\n",
       "    </tr>\n",
       "    <tr>\n",
       "      <th>type</th>\n",
       "      <th></th>\n",
       "    </tr>\n",
       "  </thead>\n",
       "  <tbody>\n",
       "    <tr>\n",
       "      <th>ORIGINAL</th>\n",
       "      <td>MULTIPOLYGON (((-76.33238 39.72130, -76.33703 ...</td>\n",
       "    </tr>\n",
       "  </tbody>\n",
       "</table>\n",
       "</div>"
      ],
      "text/plain": [
       "                                                   geometry\n",
       "type                                                       \n",
       "ORIGINAL  MULTIPOLYGON (((-76.33238 39.72130, -76.33703 ..."
      ]
     },
     "execution_count": 108,
     "metadata": {},
     "output_type": "execute_result"
    }
   ],
   "source": [
    "precinct_dissolved = precinct_boundary[['geometry', 'type']]\n",
    "precinct_dissolved = precinct_dissolved.dissolve(by='type')\n",
    "precinct_dissolved.head()"
   ]
  },
  {
   "cell_type": "code",
   "execution_count": 109,
   "metadata": {},
   "outputs": [],
   "source": [
    "difference = gp.overlay(state, precinct_dissolved, how = 'difference')"
   ]
  },
  {
   "cell_type": "code",
   "execution_count": 117,
   "metadata": {},
   "outputs": [],
   "source": [
    "difference.to_file(\"./PA/PA_coverage_error.geojson\", driver='GeoJSON')"
   ]
  },
  {
   "cell_type": "code",
   "execution_count": 172,
   "metadata": {},
   "outputs": [
    {
     "name": "stdout",
     "output_type": "stream",
     "text": [
      "[('COVERAGE', None, -77.658383, 39.726272, 'PA'), ('COVERAGE', None, -77.86815, 41.78234, 'PA'), ('COVERAGE', None, -80.299713, 42.360511, 'PA'), ('COVERAGE', None, -80.5185, 40.077003, 'PA')]\n"
     ]
    }
   ],
   "source": [
    "THRESHOLD = 5e-4\n",
    "\n",
    "add_error_querry = (\"INSERT INTO mhaczynska.data_error \"\n",
    "               \"(ERROR_TYPE, PRECINCT, CENTER_X, CENTER_Y, STATE) \"\n",
    "               \"VALUES (%s, %s, %s, %s, %s)\")\n",
    "\n",
    "ERROR_COVERAGE_TYPE = 'COVERAGE'\n",
    "STATE = 'PA'\n",
    "coverage_error_data = []\n",
    "\n",
    "for multipolygon in difference.geometry:\n",
    "    for polygon in multipolygon:\n",
    "        #print(polygon.area)\n",
    "        if polygon.area > THRESHOLD:\n",
    "            bounds = polygon.bounds\n",
    "            centerX = round((bounds[0] + bounds[2]) / 2, 6)\n",
    "            centerY = round((bounds[1] + bounds[3]) / 2, 6)\n",
    "            coverage_row = (ERROR_COVERAGE_TYPE, None, centerX, centerY, STATE)\n",
    "            coverage_error_data.append(coverage_row)\n",
    "            \n",
    "#cursor.executemany(add_error_querry, coverage_error_data)\n",
    "#mydb.commit()           \n",
    "print(coverage_error_data)"
   ]
  },
  {
   "cell_type": "code",
   "execution_count": 198,
   "metadata": {},
   "outputs": [
    {
     "data": {
      "text/html": [
       "<div>\n",
       "<style scoped>\n",
       "    .dataframe tbody tr th:only-of-type {\n",
       "        vertical-align: middle;\n",
       "    }\n",
       "\n",
       "    .dataframe tbody tr th {\n",
       "        vertical-align: top;\n",
       "    }\n",
       "\n",
       "    .dataframe thead th {\n",
       "        text-align: right;\n",
       "    }\n",
       "</style>\n",
       "<table border=\"1\" class=\"dataframe\">\n",
       "  <thead>\n",
       "    <tr style=\"text-align: right;\">\n",
       "      <th></th>\n",
       "      <th>id</th>\n",
       "      <th>total</th>\n",
       "      <th>white</th>\n",
       "      <th>black</th>\n",
       "      <th>hispanic_latino</th>\n",
       "      <th>asian</th>\n",
       "      <th>indian_alaska</th>\n",
       "      <th>hawaiian</th>\n",
       "    </tr>\n",
       "  </thead>\n",
       "  <tbody>\n",
       "    <tr>\n",
       "      <th>0</th>\n",
       "      <td>4208500960</td>\n",
       "      <td>1700</td>\n",
       "      <td>1670</td>\n",
       "      <td>0</td>\n",
       "      <td>0</td>\n",
       "      <td>10</td>\n",
       "      <td>0</td>\n",
       "      <td>0</td>\n",
       "    </tr>\n",
       "    <tr>\n",
       "      <th>1</th>\n",
       "      <td>4203900040</td>\n",
       "      <td>158</td>\n",
       "      <td>154</td>\n",
       "      <td>0</td>\n",
       "      <td>0</td>\n",
       "      <td>3</td>\n",
       "      <td>0</td>\n",
       "      <td>0</td>\n",
       "    </tr>\n",
       "    <tr>\n",
       "      <th>2</th>\n",
       "      <td>4203900010</td>\n",
       "      <td>801</td>\n",
       "      <td>798</td>\n",
       "      <td>0</td>\n",
       "      <td>16</td>\n",
       "      <td>0</td>\n",
       "      <td>0</td>\n",
       "      <td>0</td>\n",
       "    </tr>\n",
       "    <tr>\n",
       "      <th>3</th>\n",
       "      <td>4203900020</td>\n",
       "      <td>771</td>\n",
       "      <td>766</td>\n",
       "      <td>2</td>\n",
       "      <td>0</td>\n",
       "      <td>0</td>\n",
       "      <td>0</td>\n",
       "      <td>0</td>\n",
       "    </tr>\n",
       "    <tr>\n",
       "      <th>4</th>\n",
       "      <td>4203900030</td>\n",
       "      <td>2092</td>\n",
       "      <td>2044</td>\n",
       "      <td>9</td>\n",
       "      <td>26</td>\n",
       "      <td>0</td>\n",
       "      <td>5</td>\n",
       "      <td>0</td>\n",
       "    </tr>\n",
       "  </tbody>\n",
       "</table>\n",
       "</div>"
      ],
      "text/plain": [
       "           id  total  white  black  hispanic_latino  asian  indian_alaska  \\\n",
       "0  4208500960   1700   1670      0                0     10              0   \n",
       "1  4203900040    158    154      0                0      3              0   \n",
       "2  4203900010    801    798      0               16      0              0   \n",
       "3  4203900020    771    766      2                0      0              0   \n",
       "4  4203900030   2092   2044      9               26      0              5   \n",
       "\n",
       "   hawaiian  \n",
       "0         0  \n",
       "1         0  \n",
       "2         0  \n",
       "3         0  \n",
       "4         0  "
      ]
     },
     "execution_count": 198,
     "metadata": {},
     "output_type": "execute_result"
    }
   ],
   "source": [
    "### ANOMALOUS DATA\n",
    "file = \"./demographic_PA/precinct_demographic_PA.json\"\n",
    "demographics = pd.read_json(file)\n",
    "demographics.head()"
   ]
  },
  {
   "cell_type": "code",
   "execution_count": 199,
   "metadata": {},
   "outputs": [],
   "source": [
    "file = \"./election/PA_president2016.json\"\n",
    "president = pd.read_json(file)  \n",
    "file = \"./election/PA_congress2016.json\"\n",
    "congress2016 = pd.read_json(file)\n",
    "file = \"./election/PA_congress2018.json\"\n",
    "congress2018 = pd.read_json(file)"
   ]
  },
  {
   "cell_type": "code",
   "execution_count": 200,
   "metadata": {},
   "outputs": [
    {
     "name": "stdout",
     "output_type": "stream",
     "text": [
      "(9256, 4)\n",
      "(9256, 4)\n",
      "(9256, 4)\n",
      "(9256, 8)\n"
     ]
    }
   ],
   "source": [
    "print(president.shape)\n",
    "print(congress2016.shape)\n",
    "print(congress2018.shape)\n",
    "print(demographics.shape)"
   ]
  },
  {
   "cell_type": "code",
   "execution_count": 206,
   "metadata": {},
   "outputs": [
    {
     "name": "stdout",
     "output_type": "stream",
     "text": [
      "72\n"
     ]
    }
   ],
   "source": [
    "anomalous_data = []\n",
    "for index, row in demographics.iterrows():    \n",
    "    anomalous = False\n",
    "    \n",
    "    if row['total'] <= 0:\n",
    "        anomalous = True       \n",
    "        \n",
    "    if president.at[index, 'democrat'] == 0 and president.at[index, 'republican'] == 0:\n",
    "        anomalous = True\n",
    "    \n",
    "    if congress2016.at[index, 'democrat'] == 0 and congress2016.at[index, 'republican'] == 0:        \n",
    "        anomalous = True\n",
    "        \n",
    "    if congress2018.at[index, 'democrat'] == 0 and congress2018.at[index, 'republican'] == 0:        \n",
    "        anomalous = True\n",
    "        \n",
    "    #if president.at[index, 'democrat'] + president.at[index, 'republican'] > row['total']:\n",
    "        #anomalous = True\n",
    "        \n",
    "    if anomalous:\n",
    "        anomalous_data.append(row['id'])\n",
    "\n",
    "print(len(anomalous_data))"
   ]
  },
  {
   "cell_type": "code",
   "execution_count": 210,
   "metadata": {},
   "outputs": [
    {
     "name": "stdout",
     "output_type": "stream",
     "text": [
      "<mysql.connector.connection_cext.CMySQLConnection object at 0x00000281B2E4B788>\n"
     ]
    }
   ],
   "source": [
    "#POPULATE DATABASE\n",
    "mydb = mysql.connector.connect(\n",
    "    host=\"mysql3.cs.stonybrook.edu\",\n",
    "    user='mhaczynska',\n",
    "    passwd=\"110670160\",\n",
    "    database = 'mhaczynska'    \n",
    ")\n",
    "\n",
    "cursor = mydb.cursor()\n",
    "print (mydb)"
   ]
  },
  {
   "cell_type": "code",
   "execution_count": 145,
   "metadata": {},
   "outputs": [
    {
     "data": {
      "text/html": [
       "<div>\n",
       "<style scoped>\n",
       "    .dataframe tbody tr th:only-of-type {\n",
       "        vertical-align: middle;\n",
       "    }\n",
       "\n",
       "    .dataframe tbody tr th {\n",
       "        vertical-align: top;\n",
       "    }\n",
       "\n",
       "    .dataframe thead th {\n",
       "        text-align: right;\n",
       "    }\n",
       "</style>\n",
       "<table border=\"1\" class=\"dataframe\">\n",
       "  <thead>\n",
       "    <tr style=\"text-align: right;\">\n",
       "      <th></th>\n",
       "      <th>type</th>\n",
       "      <th>centerX</th>\n",
       "      <th>centerY</th>\n",
       "      <th>neighbors</th>\n",
       "      <th>canonical</th>\n",
       "      <th>precinct_c</th>\n",
       "      <th>id</th>\n",
       "      <th>geometry</th>\n",
       "    </tr>\n",
       "  </thead>\n",
       "  <tbody>\n",
       "    <tr>\n",
       "      <th>0</th>\n",
       "      <td>ORIGINAL</td>\n",
       "      <td>41.157814</td>\n",
       "      <td>-80.479783</td>\n",
       "      <td>4207300790, 4208500950, 4208501040, 4208500425...</td>\n",
       "      <td>PA Mercer 00960</td>\n",
       "      <td>4208500960</td>\n",
       "      <td>4208500960</td>\n",
       "      <td>MULTIPOLYGON (((-80.51922 41.18555, -80.51877 ...</td>\n",
       "    </tr>\n",
       "    <tr>\n",
       "      <th>1</th>\n",
       "      <td>ORIGINAL</td>\n",
       "      <td>41.680613</td>\n",
       "      <td>-80.04085000000001</td>\n",
       "      <td>4203900150, 4203900330, 4203900340, 4203900660</td>\n",
       "      <td>PA Crawford 00040</td>\n",
       "      <td>4203900040</td>\n",
       "      <td>4203900040</td>\n",
       "      <td>MULTIPOLYGON (((-80.05844 41.68391, -80.04599 ...</td>\n",
       "    </tr>\n",
       "    <tr>\n",
       "      <th>2</th>\n",
       "      <td>ORIGINAL</td>\n",
       "      <td>41.743054</td>\n",
       "      <td>-79.840985</td>\n",
       "      <td>4203900030, 4203900070, 4203900400, 4203900360...</td>\n",
       "      <td>PA Crawford 00010</td>\n",
       "      <td>4203900010</td>\n",
       "      <td>4203900010</td>\n",
       "      <td>MULTIPOLYGON (((-79.90979 41.77394, -79.83310 ...</td>\n",
       "    </tr>\n",
       "    <tr>\n",
       "      <th>3</th>\n",
       "      <td>ORIGINAL</td>\n",
       "      <td>41.803153</td>\n",
       "      <td>-80.462641</td>\n",
       "      <td>4203900090, 4203900420, 4204900040</td>\n",
       "      <td>PA Crawford 00020</td>\n",
       "      <td>4203900020</td>\n",
       "      <td>4203900020</td>\n",
       "      <td>MULTIPOLYGON (((-80.51935 41.84956, -80.40589 ...</td>\n",
       "    </tr>\n",
       "    <tr>\n",
       "      <th>4</th>\n",
       "      <td>ORIGINAL</td>\n",
       "      <td>41.812444</td>\n",
       "      <td>-79.836173</td>\n",
       "      <td>4203900010, 4203900400, 4203900350, 4204901060...</td>\n",
       "      <td>PA Crawford 00030</td>\n",
       "      <td>4203900030</td>\n",
       "      <td>4203900030</td>\n",
       "      <td>MULTIPOLYGON (((-79.90998 41.85069, -79.76203 ...</td>\n",
       "    </tr>\n",
       "  </tbody>\n",
       "</table>\n",
       "</div>"
      ],
      "text/plain": [
       "       type    centerX             centerY  \\\n",
       "0  ORIGINAL  41.157814          -80.479783   \n",
       "1  ORIGINAL  41.680613  -80.04085000000001   \n",
       "2  ORIGINAL  41.743054          -79.840985   \n",
       "3  ORIGINAL  41.803153          -80.462641   \n",
       "4  ORIGINAL  41.812444          -79.836173   \n",
       "\n",
       "                                           neighbors          canonical  \\\n",
       "0  4207300790, 4208500950, 4208501040, 4208500425...    PA Mercer 00960   \n",
       "1     4203900150, 4203900330, 4203900340, 4203900660  PA Crawford 00040   \n",
       "2  4203900030, 4203900070, 4203900400, 4203900360...  PA Crawford 00010   \n",
       "3                 4203900090, 4203900420, 4204900040  PA Crawford 00020   \n",
       "4  4203900010, 4203900400, 4203900350, 4204901060...  PA Crawford 00030   \n",
       "\n",
       "   precinct_c          id                                           geometry  \n",
       "0  4208500960  4208500960  MULTIPOLYGON (((-80.51922 41.18555, -80.51877 ...  \n",
       "1  4203900040  4203900040  MULTIPOLYGON (((-80.05844 41.68391, -80.04599 ...  \n",
       "2  4203900010  4203900010  MULTIPOLYGON (((-79.90979 41.77394, -79.83310 ...  \n",
       "3  4203900020  4203900020  MULTIPOLYGON (((-80.51935 41.84956, -80.40589 ...  \n",
       "4  4203900030  4203900030  MULTIPOLYGON (((-79.90998 41.85069, -79.76203 ...  "
      ]
     },
     "execution_count": 145,
     "metadata": {},
     "output_type": "execute_result"
    }
   ],
   "source": [
    "file = \"./PA/update_pa_precinct_c.geojson\"\n",
    "precincts = gp.read_file(file)\n",
    "precincts.head()"
   ]
  },
  {
   "cell_type": "code",
   "execution_count": 146,
   "metadata": {},
   "outputs": [],
   "source": [
    "# ADD PRECINCT\n",
    "add_precinct_querry = (\"INSERT INTO mhaczynska.precinct \"\n",
    "               \"(GEO_ID, NAME, STATE_NAME, CENTER_X, CENTER_Y, NEIGHBORS, PRECINCT_TYPE, PRECINCT_GEOJSON) \"\n",
    "               \"VALUES (%s, %s, %s, %s, %s, %s, %s, %s)\")\n",
    "\n",
    "update_precinct_querry = (\"UPDATE mhaczynska.precinct SET PRECINCT_GEOJSON = %s WHERE GEO_ID = %s\")\n",
    "\n",
    "state = 'PA'\n",
    "#precinct_data = []\n",
    "for index, row in precincts.iterrows():\n",
    "    geometry_str = row.geometry.__geo_interface__\n",
    "    geometry_str = json.dumps(geometry_str)     \n",
    "    #precinct_data = (row['id'], row['canonical'], state, row['centerX'], row['centerY'], row['neighbors'], row['type'], geometry_str)\n",
    "    #precinct_data.append(precinct_row)\n",
    "    update_precinct = (geometry_str, row['id'])\n",
    "    cursor.execute(update_precinct_querry, update_precinct)\n",
    "    mydb.commit()\n",
    "    "
   ]
  },
  {
   "cell_type": "code",
   "execution_count": 162,
   "metadata": {},
   "outputs": [],
   "source": [
    "#ADD NEIGHBORS\n",
    "add_neighbor_querry = (\"INSERT INTO mhaczynska.neighbors \"\n",
    "               \"(PRECINCT, NEIGHBOR_GEOID) \"\n",
    "               \"VALUES (%s, %s)\")\n",
    "\n",
    "neighbor_data = []\n",
    "for index, row in precincts.iterrows():\n",
    "    neighbors = row['neighbors']\n",
    "    neighbors = neighbors.split(\",\")\n",
    "    for neighbor in neighbors:\n",
    "        neighbor_row = (row['id'], neighbor.strip())\n",
    "        neighbor_data.append(neighbor_row)        \n",
    "#print(neighbor_data)\n",
    "\n",
    "cursor.executemany(add_neighbor_querry, neighbor_data)\n",
    "mydb.commit()"
   ]
  },
  {
   "cell_type": "code",
   "execution_count": 80,
   "metadata": {},
   "outputs": [],
   "source": [
    "precinctC_mapping = {}\n",
    "reader = csv.reader(open('./PA/PA_GEOID_to_PRECINCT_C.csv', 'r'))\n",
    "for row in reader:\n",
    "    #id = row['County FIPS']\n",
    "    county_fips = str(row[0])[:5]\n",
    "    key = str(row[0])[5:].zfill(5)\n",
    "    key = county_fips + key\n",
    "    value = str(row[1]).zfill(5)\n",
    "    value = county_fips + value\n",
    "    #print(key, value)\n",
    "    precinctC_mapping[key] = value"
   ]
  },
  {
   "cell_type": "code",
   "execution_count": null,
   "metadata": {},
   "outputs": [],
   "source": [
    "precincts.insert(6, 'precinct_c', None)\n",
    "\n",
    "for i, row in precincts.iterrows():\n",
    "    if row['id'] in precinctC_mapping.keys():\n",
    "        precincts.at[i, 'precinct_c'] = precinctC_mapping[row['id']]\n",
    "precincts.head()"
   ]
  },
  {
   "cell_type": "code",
   "execution_count": 138,
   "metadata": {
    "scrolled": true
   },
   "outputs": [],
   "source": [
    "## OVERLAP \n",
    "add_error_querry = (\"INSERT INTO mhaczynska.data_error \"\n",
    "               \"(ERROR_TYPE, PRECINCT, CENTER_X, CENTER_Y, STATE) \"\n",
    "               \"VALUES (%s, %s, %s, %s, %s)\")\n",
    "\n",
    "file = './PA/update_pa_points_of_intersection.geojson'\n",
    "intersections = gp.read_file(file)\n",
    "intersections_data = []\n",
    "ERROR_INTERSECTIONS_TYPE = 'OVERLAP'\n",
    "STATE = 'PA'\n",
    "for index, row in intersections.iterrows():\n",
    "    point = list(row.geometry.coords)\n",
    "    intersection_row = (ERROR_INTERSECTIONS_TYPE, row['id'], point[0][1], point[0][0], STATE)\n",
    "    intersections_data.append(intersection_row)\n",
    "\n",
    "cursor.executemany(add_error_querry, intersections_data)\n",
    "mydb.commit()    \n",
    "#print(intersections_data)"
   ]
  },
  {
   "cell_type": "code",
   "execution_count": 157,
   "metadata": {},
   "outputs": [],
   "source": [
    "#ENCLOSED PRECINCTS\n",
    "\n",
    "add_error_querry = (\"INSERT INTO mhaczynska.data_error \"\n",
    "               \"(ERROR_TYPE, PRECINCT, CENTER_X, CENTER_Y, STATE) \"\n",
    "               \"VALUES (%s, %s, %s, %s, %s)\")\n",
    "\n",
    "update_enclosed_error_querry = \"UPDATE mhaczynska.data_error SET STATE = %s WHERE PRECINCT = %s\"\n",
    "\n",
    "ERROR_ECLOSED_TYPE = 'ENCLOSED'\n",
    "ERROR_MULTIPOLYGON_TYPE = 'MULTIPOLYGON'\n",
    "STATE = 'PA'\n",
    "enclosed_error_data = []\n",
    "multipolygon_error_data = []\n",
    "for index, row in precincts.iterrows():    \n",
    "    if  len(row.geometry) > 1:\n",
    "        multipolygon_row = (ERROR_MULTIPOLYGON_TYPE, row['id'], row['centerX'], row['centerY'], STATE)\n",
    "        multipolygon_error_data.append(multipolygon_row)\n",
    "    for i, polygon in enumerate(row.geometry):\n",
    "            #if i != 0:\n",
    "        interior_list = list(polygon.interiors)\n",
    "        if len(interior_list) > 0:\n",
    "            bounds = interior_list[0].bounds\n",
    "            centerX = round((bounds[0] + bounds[2]) / 2, 6)\n",
    "            centerY = round((bounds[1] + bounds[3]) / 2, 6)\n",
    "            enclosed_row = (ERROR_ECLOSED_TYPE, row['id'], centerX, centerY, STATE)\n",
    "            enclosed_error_data.append(enclosed_row)\n",
    "\n",
    "#print(enclosed_error_data)           \n",
    "#print(multipolygon_error_data)            \n",
    "cursor.executemany(add_error_querry, enclosed_error_data)\n",
    "mydb.commit()\n",
    "cursor.executemany(add_error_querry, multipolygon_error_data)\n",
    "mydb.commit()"
   ]
  },
  {
   "cell_type": "code",
   "execution_count": 211,
   "metadata": {},
   "outputs": [],
   "source": [
    "add_error_querry = (\"INSERT INTO mhaczynska.data_error \"\n",
    "               \"(ERROR_TYPE, PRECINCT, CENTER_X, CENTER_Y, STATE) \"\n",
    "               \"VALUES (%s, %s, %s, %s, %s)\")\n",
    "\n",
    "STATE = 'PA'\n",
    "ERROR_ANOMALOUS_TYPE = 'ANOMALOUS'\n",
    "anomalous = []\n",
    "\n",
    "for precinct_id in anomalous_data:\n",
    "    centerX = precincts[precincts['id'] == precinct_id]['centerX'].values[0]\n",
    "    centerY = precincts[precincts['id'] == precinct_id]['centerY'].values[0]\n",
    "    anomalous_row = (ERROR_ANOMALOUS_TYPE, precinct_id, centerX, centerY, STATE)\n",
    "    anomalous.append(anomalous_row)\n",
    "\n",
    "cursor.executemany(add_error_querry, anomalous)\n",
    "mydb.commit()    \n",
    "#print(anomalous)"
   ]
  },
  {
   "cell_type": "code",
   "execution_count": 212,
   "metadata": {},
   "outputs": [],
   "source": [
    "cursor.close()\n",
    "mydb.close()"
   ]
  },
  {
   "cell_type": "code",
   "execution_count": null,
   "metadata": {},
   "outputs": [],
   "source": []
  }
 ],
 "metadata": {
  "kernelspec": {
   "display_name": "Python 3",
   "language": "python",
   "name": "python3"
  },
  "language_info": {
   "codemirror_mode": {
    "name": "ipython",
    "version": 3
   },
   "file_extension": ".py",
   "mimetype": "text/x-python",
   "name": "python",
   "nbconvert_exporter": "python",
   "pygments_lexer": "ipython3",
   "version": "3.7.7"
  }
 },
 "nbformat": 4,
 "nbformat_minor": 4
}
