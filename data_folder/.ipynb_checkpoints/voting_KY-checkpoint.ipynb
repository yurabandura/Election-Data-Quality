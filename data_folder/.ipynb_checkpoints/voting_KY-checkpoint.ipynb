{
 "cells": [
  {
   "cell_type": "code",
   "execution_count": 176,
   "metadata": {},
   "outputs": [],
   "source": [
    "import csv\n",
    "import geopandas as gp\n",
    "import pandas as pd\n",
    "import mysql.connector"
   ]
  },
  {
   "cell_type": "code",
   "execution_count": 177,
   "metadata": {},
   "outputs": [],
   "source": [
    "#Process presidential votes\n",
    "STATE = 'KY'\n",
    "DEMOCRAT = 'trump'\n",
    "REPUBLICAN = 'clinton'\n",
    "president = {}\n",
    "reader = csv.reader(open('./election/2016-precinct-president_KY.csv', 'r'))\n",
    "for row in reader:\n",
    "    if row[2] != STATE:\n",
    "        continue\n",
    "    #democr, republican\n",
    "    \n",
    "    id = row[6]+ row[9][:4]\n",
    "        \n",
    "    if id in president.keys():\n",
    "        votes = president[id]\n",
    "    else:\n",
    "        votes = [0, 0]\n",
    "    if row[11] == DEMOCRAT:\n",
    "        votes[0] += int(row[17])\n",
    "    if row[11] == REPUBLICAN:\n",
    "        votes[1] += int(row[17])\n",
    "    president[id] = votes\n",
    "    \n",
    "#print (president)\n",
    "        \n",
    "    "
   ]
  },
  {
   "cell_type": "code",
   "execution_count": 178,
   "metadata": {},
   "outputs": [
    {
     "data": {
      "text/html": [
       "<div>\n",
       "<style scoped>\n",
       "    .dataframe tbody tr th:only-of-type {\n",
       "        vertical-align: middle;\n",
       "    }\n",
       "\n",
       "    .dataframe tbody tr th {\n",
       "        vertical-align: top;\n",
       "    }\n",
       "\n",
       "    .dataframe thead th {\n",
       "        text-align: right;\n",
       "    }\n",
       "</style>\n",
       "<table border=\"1\" class=\"dataframe\">\n",
       "  <thead>\n",
       "    <tr style=\"text-align: right;\">\n",
       "      <th></th>\n",
       "      <th>id</th>\n",
       "      <th>canonical</th>\n",
       "      <th>type</th>\n",
       "      <th>centerX</th>\n",
       "      <th>centerY</th>\n",
       "      <th>area</th>\n",
       "      <th>neighbors</th>\n",
       "      <th>geometry</th>\n",
       "    </tr>\n",
       "  </thead>\n",
       "  <tbody>\n",
       "    <tr>\n",
       "      <th>0</th>\n",
       "      <td>21179D105</td>\n",
       "      <td>KY Nelson D105</td>\n",
       "      <td>ORIGINAL</td>\n",
       "      <td>37.850026</td>\n",
       "      <td>-85.475196</td>\n",
       "      <td>0.002013050157500042</td>\n",
       "      <td>21179C101, 21179D101, 21179C102, 21179B104, 21...</td>\n",
       "      <td>MULTIPOLYGON (((-85.47258 37.82863, -85.48071 ...</td>\n",
       "    </tr>\n",
       "    <tr>\n",
       "      <th>1</th>\n",
       "      <td>21149C102</td>\n",
       "      <td>KY McLean C102</td>\n",
       "      <td>ORIGINAL</td>\n",
       "      <td>37.532737</td>\n",
       "      <td>-87.10202099999999</td>\n",
       "      <td>0.005103987640000557</td>\n",
       "      <td>21183A105, 21149B101, 21059E104, 21059E103, 21...</td>\n",
       "      <td>MULTIPOLYGON (((-87.15110 37.49865, -87.15485 ...</td>\n",
       "    </tr>\n",
       "    <tr>\n",
       "      <th>2</th>\n",
       "      <td>21147F106</td>\n",
       "      <td>KY McCreary F106</td>\n",
       "      <td>ORIGINAL</td>\n",
       "      <td>36.661912</td>\n",
       "      <td>-84.654375</td>\n",
       "      <td>0.02044541949150034</td>\n",
       "      <td>21147A104, 21147F109, 21147F108, 21147F105, 21...</td>\n",
       "      <td>MULTIPOLYGON (((-84.60974 36.72119, -84.59601 ...</td>\n",
       "    </tr>\n",
       "    <tr>\n",
       "      <th>3</th>\n",
       "      <td>21147A104</td>\n",
       "      <td>KY McCreary A104</td>\n",
       "      <td>ORIGINAL</td>\n",
       "      <td>36.622</td>\n",
       "      <td>-84.499544</td>\n",
       "      <td>0.006988445205999944</td>\n",
       "      <td>21147F106, 21147F109, 21147B101, 21147B104, 21...</td>\n",
       "      <td>MULTIPOLYGON (((-84.60519 36.59878, -84.60444 ...</td>\n",
       "    </tr>\n",
       "    <tr>\n",
       "      <th>4</th>\n",
       "      <td>21147F109</td>\n",
       "      <td>KY McCreary F109</td>\n",
       "      <td>ORIGINAL</td>\n",
       "      <td>36.655203</td>\n",
       "      <td>-84.517765</td>\n",
       "      <td>0.002377978279499937</td>\n",
       "      <td>21147F106, 21147A104, 21147A101, 21147A105, 21...</td>\n",
       "      <td>MULTIPOLYGON (((-84.50946 36.62620, -84.51109 ...</td>\n",
       "    </tr>\n",
       "  </tbody>\n",
       "</table>\n",
       "</div>"
      ],
      "text/plain": [
       "          id         canonical      type    centerX             centerY  \\\n",
       "0  21179D105    KY Nelson D105  ORIGINAL  37.850026          -85.475196   \n",
       "1  21149C102    KY McLean C102  ORIGINAL  37.532737  -87.10202099999999   \n",
       "2  21147F106  KY McCreary F106  ORIGINAL  36.661912          -84.654375   \n",
       "3  21147A104  KY McCreary A104  ORIGINAL     36.622          -84.499544   \n",
       "4  21147F109  KY McCreary F109  ORIGINAL  36.655203          -84.517765   \n",
       "\n",
       "                   area                                          neighbors  \\\n",
       "0  0.002013050157500042  21179C101, 21179D101, 21179C102, 21179B104, 21...   \n",
       "1  0.005103987640000557  21183A105, 21149B101, 21059E104, 21059E103, 21...   \n",
       "2   0.02044541949150034  21147A104, 21147F109, 21147F108, 21147F105, 21...   \n",
       "3  0.006988445205999944  21147F106, 21147F109, 21147B101, 21147B104, 21...   \n",
       "4  0.002377978279499937  21147F106, 21147A104, 21147A101, 21147A105, 21...   \n",
       "\n",
       "                                            geometry  \n",
       "0  MULTIPOLYGON (((-85.47258 37.82863, -85.48071 ...  \n",
       "1  MULTIPOLYGON (((-87.15110 37.49865, -87.15485 ...  \n",
       "2  MULTIPOLYGON (((-84.60974 36.72119, -84.59601 ...  \n",
       "3  MULTIPOLYGON (((-84.60519 36.59878, -84.60444 ...  \n",
       "4  MULTIPOLYGON (((-84.50946 36.62620, -84.51109 ...  "
      ]
     },
     "execution_count": 178,
     "metadata": {},
     "output_type": "execute_result"
    }
   ],
   "source": [
    "file = \"./KY/KY_final.geojson\" \n",
    "df = gp.read_file(file)\n",
    "df.head()"
   ]
  },
  {
   "cell_type": "code",
   "execution_count": 179,
   "metadata": {},
   "outputs": [
    {
     "data": {
      "text/html": [
       "<div>\n",
       "<style scoped>\n",
       "    .dataframe tbody tr th:only-of-type {\n",
       "        vertical-align: middle;\n",
       "    }\n",
       "\n",
       "    .dataframe tbody tr th {\n",
       "        vertical-align: top;\n",
       "    }\n",
       "\n",
       "    .dataframe thead th {\n",
       "        text-align: right;\n",
       "    }\n",
       "</style>\n",
       "<table border=\"1\" class=\"dataframe\">\n",
       "  <thead>\n",
       "    <tr style=\"text-align: right;\">\n",
       "      <th></th>\n",
       "      <th>id</th>\n",
       "      <th>democrat</th>\n",
       "      <th>republican</th>\n",
       "    </tr>\n",
       "  </thead>\n",
       "  <tbody>\n",
       "    <tr>\n",
       "      <th>0</th>\n",
       "      <td>21179D105</td>\n",
       "      <td>0</td>\n",
       "      <td>0</td>\n",
       "    </tr>\n",
       "    <tr>\n",
       "      <th>1</th>\n",
       "      <td>21149C102</td>\n",
       "      <td>0</td>\n",
       "      <td>0</td>\n",
       "    </tr>\n",
       "    <tr>\n",
       "      <th>2</th>\n",
       "      <td>21147F106</td>\n",
       "      <td>0</td>\n",
       "      <td>0</td>\n",
       "    </tr>\n",
       "    <tr>\n",
       "      <th>3</th>\n",
       "      <td>21147A104</td>\n",
       "      <td>0</td>\n",
       "      <td>0</td>\n",
       "    </tr>\n",
       "    <tr>\n",
       "      <th>4</th>\n",
       "      <td>21147F109</td>\n",
       "      <td>0</td>\n",
       "      <td>0</td>\n",
       "    </tr>\n",
       "  </tbody>\n",
       "</table>\n",
       "</div>"
      ],
      "text/plain": [
       "          id  democrat  republican\n",
       "0  21179D105         0           0\n",
       "1  21149C102         0           0\n",
       "2  21147F106         0           0\n",
       "3  21147A104         0           0\n",
       "4  21147F109         0           0"
      ]
     },
     "execution_count": 179,
     "metadata": {},
     "output_type": "execute_result"
    }
   ],
   "source": [
    "president_votes = df.copy()\n",
    "president_votes = president_votes.drop(columns = ['area', 'type', 'centerX', 'centerY', 'canonical', 'neighbors', 'geometry'])\n",
    "\n",
    "president_votes.insert(1, 'democrat', 0)\n",
    "president_votes.insert(2, 'republican', 0)\n",
    "\n",
    "president_votes.head()"
   ]
  },
  {
   "cell_type": "code",
   "execution_count": 180,
   "metadata": {},
   "outputs": [],
   "source": [
    "notFound = []\n",
    "for i, row in president_votes.iterrows():\n",
    "    id = row['id']\n",
    "    if id in president.keys():\n",
    "        president_votes.at[i, 'democrat'] = president[id][0]\n",
    "        president_votes.at[i, 'republican'] = president[id][1]\n",
    "    else:\n",
    "        notFound.append(id)"
   ]
  },
  {
   "cell_type": "code",
   "execution_count": 181,
   "metadata": {},
   "outputs": [
    {
     "name": "stdout",
     "output_type": "stream",
     "text": [
      "419\n",
      "(422, 3)\n"
     ]
    }
   ],
   "source": [
    "print(len(notFound))\n",
    "print(president_votes[president_votes['democrat'] == 0].shape)"
   ]
  },
  {
   "cell_type": "code",
   "execution_count": 199,
   "metadata": {},
   "outputs": [],
   "source": [
    "pd.DataFrame(president_votes).to_json('./election/KY_president2016.json')"
   ]
  },
  {
   "cell_type": "code",
   "execution_count": 182,
   "metadata": {},
   "outputs": [],
   "source": [
    "#PROCESS CONGRESSIONAL VOTES 2016\n",
    "#SENATE\n",
    "STATE = 'KY'\n",
    "DEMOCRATIC = 'gray'\n",
    "REPUBLICAN = 'paul'\n",
    "senate2016 = {}\n",
    "problematic_list = ['21027', '21099', '21115', '21129', '21135', '21175', '21189', '21197']\n",
    "\n",
    "reader = csv.reader(open('./election/2016-precinct-senate.csv', 'r'))\n",
    "for row in reader:\n",
    "    if row[4] != STATE:\n",
    "        continue\n",
    "    #democr, republican\n",
    "    id = row[8]+ row[13]\n",
    "    \n",
    "    if row[8] in problematic_list:\n",
    "        problematicDF = mappingHD[mappingHD['state_coun'] == row[8]]\n",
    "        id = problematicDF[problematicDF['name'] == row[13]]\n",
    "        if len(id) > 0:\n",
    "            id = id['vtdid'].item()\n",
    "        else:\n",
    "            id = 0\n",
    "    \n",
    "    if id in senate2016.keys():\n",
    "        votes = senate2016[id]\n",
    "    else:\n",
    "        votes = [0, 0]\n",
    "        \n",
    "    if row[15] == DEMOCRATIC:\n",
    "        votes[0] += int(row[21])\n",
    "    if row[15] == REPUBLICAN:\n",
    "        votes[1] += int(row[21])\n",
    "    senate2016[id] = votes\n",
    "    \n",
    "#print (senate2016)"
   ]
  },
  {
   "cell_type": "code",
   "execution_count": 183,
   "metadata": {},
   "outputs": [],
   "source": [
    "#HOUSE\n",
    "STATE = 'KY'\n",
    "DEMOCRAT = 'yarmuth'\n",
    "REPUBLICAN = ('whitfield', 'guthrie', 'massie', 'rogers', 'barr')\n",
    "house2016 = {}\n",
    "\n",
    "reader = csv.reader(open('./election/2016-precinct-house.csv', 'r', encoding = \"utf-8\"))\n",
    "for row in reader:\n",
    "    if row[4] != STATE:\n",
    "        continue\n",
    "    #democrat, republican\n",
    "    id = row[8] + row[13]\n",
    "    \n",
    "    if row[8] in problematic_list:\n",
    "        problematicDF = mappingHD[mappingHD['state_coun'] == row[8]]\n",
    "        id = problematicDF[problematicDF['name'] == row[13]]\n",
    "        if len(id) > 0:\n",
    "            id = id['vtdid'].item()\n",
    "        else:\n",
    "            id = 0\n",
    "    \n",
    "    if id in house2016.keys():\n",
    "        votes = house2016[id]\n",
    "    else:\n",
    "        votes = [0, 0]\n",
    "        \n",
    "    if row[15] == DEMOCRAT:\n",
    "        votes[0] += int(row[21])\n",
    "    elif row[15] in REPUBLICAN:\n",
    "        votes[1] += int(row[21])\n",
    "    house2016[id] = votes\n",
    "    \n",
    "#print (house2016)"
   ]
  },
  {
   "cell_type": "code",
   "execution_count": 184,
   "metadata": {},
   "outputs": [
    {
     "data": {
      "text/html": [
       "<div>\n",
       "<style scoped>\n",
       "    .dataframe tbody tr th:only-of-type {\n",
       "        vertical-align: middle;\n",
       "    }\n",
       "\n",
       "    .dataframe tbody tr th {\n",
       "        vertical-align: top;\n",
       "    }\n",
       "\n",
       "    .dataframe thead th {\n",
       "        text-align: right;\n",
       "    }\n",
       "</style>\n",
       "<table border=\"1\" class=\"dataframe\">\n",
       "  <thead>\n",
       "    <tr style=\"text-align: right;\">\n",
       "      <th></th>\n",
       "      <th>id</th>\n",
       "      <th>democrat</th>\n",
       "      <th>republican</th>\n",
       "    </tr>\n",
       "  </thead>\n",
       "  <tbody>\n",
       "    <tr>\n",
       "      <th>0</th>\n",
       "      <td>21179D105</td>\n",
       "      <td>0</td>\n",
       "      <td>0</td>\n",
       "    </tr>\n",
       "    <tr>\n",
       "      <th>1</th>\n",
       "      <td>21149C102</td>\n",
       "      <td>0</td>\n",
       "      <td>0</td>\n",
       "    </tr>\n",
       "    <tr>\n",
       "      <th>2</th>\n",
       "      <td>21147F106</td>\n",
       "      <td>0</td>\n",
       "      <td>0</td>\n",
       "    </tr>\n",
       "    <tr>\n",
       "      <th>3</th>\n",
       "      <td>21147A104</td>\n",
       "      <td>0</td>\n",
       "      <td>0</td>\n",
       "    </tr>\n",
       "    <tr>\n",
       "      <th>4</th>\n",
       "      <td>21147F109</td>\n",
       "      <td>0</td>\n",
       "      <td>0</td>\n",
       "    </tr>\n",
       "  </tbody>\n",
       "</table>\n",
       "</div>"
      ],
      "text/plain": [
       "          id  democrat  republican\n",
       "0  21179D105         0           0\n",
       "1  21149C102         0           0\n",
       "2  21147F106         0           0\n",
       "3  21147A104         0           0\n",
       "4  21147F109         0           0"
      ]
     },
     "execution_count": 184,
     "metadata": {},
     "output_type": "execute_result"
    }
   ],
   "source": [
    "congress_votes = df.copy()\n",
    "congress_votes = congress_votes.drop(columns = ['area', 'type', 'centerX', 'centerY', 'canonical', 'neighbors', 'geometry'])\n",
    "\n",
    "congress_votes.insert(1, 'democrat', 0)\n",
    "congress_votes.insert(2, 'republican', 0)\n",
    "congress_votes.head()"
   ]
  },
  {
   "cell_type": "code",
   "execution_count": 185,
   "metadata": {},
   "outputs": [],
   "source": [
    "notFound = []\n",
    "for i, row in congress_votes.iterrows():\n",
    "    id = row['id']\n",
    "    \n",
    "    if id in senate2016.keys():\n",
    "        congress_votes.at[i, 'democrat'] = senate2016[id][0]\n",
    "        congress_votes.at[i, 'republican'] = senate2016[id][1]\n",
    "    elif id in house2016.keys():\n",
    "        democrats = congress_votes.at[i, 'democrat']\n",
    "        congress_votes.at[i, 'democrat'] = democrats + house2016[id][0]\n",
    "        republicans = congress_votes.at[i, 'republican']\n",
    "        congress_votes.at[i, 'republican'] = republicans + house2016[id][1]\n",
    "    else:\n",
    "        notFound.append(id)"
   ]
  },
  {
   "cell_type": "code",
   "execution_count": 189,
   "metadata": {},
   "outputs": [
    {
     "name": "stdout",
     "output_type": "stream",
     "text": [
      "704\n",
      "(55, 3)\n"
     ]
    }
   ],
   "source": [
    "print(len(notFound))\n",
    "print(congress_votes[congress_votes['democrat'] == 0].shape)"
   ]
  },
  {
   "cell_type": "code",
   "execution_count": 198,
   "metadata": {},
   "outputs": [],
   "source": [
    "pd.DataFrame(congress_votes).to_json(\"./election/KY_congress2016.json\")"
   ]
  },
  {
   "cell_type": "code",
   "execution_count": 120,
   "metadata": {},
   "outputs": [
    {
     "data": {
      "text/html": [
       "<div>\n",
       "<style scoped>\n",
       "    .dataframe tbody tr th:only-of-type {\n",
       "        vertical-align: middle;\n",
       "    }\n",
       "\n",
       "    .dataframe tbody tr th {\n",
       "        vertical-align: top;\n",
       "    }\n",
       "\n",
       "    .dataframe thead th {\n",
       "        text-align: right;\n",
       "    }\n",
       "</style>\n",
       "<table border=\"1\" class=\"dataframe\">\n",
       "  <thead>\n",
       "    <tr style=\"text-align: right;\">\n",
       "      <th></th>\n",
       "      <th>id</th>\n",
       "      <th>total</th>\n",
       "      <th>white</th>\n",
       "      <th>black</th>\n",
       "      <th>hispanic_latino</th>\n",
       "      <th>asian</th>\n",
       "      <th>indian_alaska</th>\n",
       "      <th>hawaiian</th>\n",
       "      <th>geometry</th>\n",
       "    </tr>\n",
       "  </thead>\n",
       "  <tbody>\n",
       "    <tr>\n",
       "      <th>0</th>\n",
       "      <td>21179D105</td>\n",
       "      <td>2804</td>\n",
       "      <td>2727</td>\n",
       "      <td>27</td>\n",
       "      <td>77</td>\n",
       "      <td>0</td>\n",
       "      <td>0</td>\n",
       "      <td>0</td>\n",
       "      <td>MULTIPOLYGON (((-85.47258 37.82863, -85.47277 ...</td>\n",
       "    </tr>\n",
       "    <tr>\n",
       "      <th>1</th>\n",
       "      <td>21149C102</td>\n",
       "      <td>855</td>\n",
       "      <td>845</td>\n",
       "      <td>5</td>\n",
       "      <td>1</td>\n",
       "      <td>0</td>\n",
       "      <td>0</td>\n",
       "      <td>0</td>\n",
       "      <td>MULTIPOLYGON (((-87.15110 37.49865, -87.15120 ...</td>\n",
       "    </tr>\n",
       "    <tr>\n",
       "      <th>2</th>\n",
       "      <td>21147F106</td>\n",
       "      <td>1130</td>\n",
       "      <td>1065</td>\n",
       "      <td>0</td>\n",
       "      <td>0</td>\n",
       "      <td>0</td>\n",
       "      <td>0</td>\n",
       "      <td>0</td>\n",
       "      <td>MULTIPOLYGON (((-84.60974 36.72119, -84.60625 ...</td>\n",
       "    </tr>\n",
       "    <tr>\n",
       "      <th>3</th>\n",
       "      <td>21147A104</td>\n",
       "      <td>947</td>\n",
       "      <td>932</td>\n",
       "      <td>10</td>\n",
       "      <td>1</td>\n",
       "      <td>0</td>\n",
       "      <td>0</td>\n",
       "      <td>0</td>\n",
       "      <td>MULTIPOLYGON (((-84.60519 36.59878, -84.60507 ...</td>\n",
       "    </tr>\n",
       "    <tr>\n",
       "      <th>4</th>\n",
       "      <td>21147F109</td>\n",
       "      <td>976</td>\n",
       "      <td>938</td>\n",
       "      <td>0</td>\n",
       "      <td>9</td>\n",
       "      <td>0</td>\n",
       "      <td>38</td>\n",
       "      <td>0</td>\n",
       "      <td>MULTIPOLYGON (((-84.50946 36.62620, -84.50950 ...</td>\n",
       "    </tr>\n",
       "  </tbody>\n",
       "</table>\n",
       "</div>"
      ],
      "text/plain": [
       "          id  total  white  black  hispanic_latino  asian  indian_alaska  \\\n",
       "0  21179D105   2804   2727     27               77      0              0   \n",
       "1  21149C102    855    845      5                1      0              0   \n",
       "2  21147F106   1130   1065      0                0      0              0   \n",
       "3  21147A104    947    932     10                1      0              0   \n",
       "4  21147F109    976    938      0                9      0             38   \n",
       "\n",
       "   hawaiian                                           geometry  \n",
       "0         0  MULTIPOLYGON (((-85.47258 37.82863, -85.47277 ...  \n",
       "1         0  MULTIPOLYGON (((-87.15110 37.49865, -87.15120 ...  \n",
       "2         0  MULTIPOLYGON (((-84.60974 36.72119, -84.60625 ...  \n",
       "3         0  MULTIPOLYGON (((-84.60519 36.59878, -84.60507 ...  \n",
       "4         0  MULTIPOLYGON (((-84.50946 36.62620, -84.50950 ...  "
      ]
     },
     "execution_count": 120,
     "metadata": {},
     "output_type": "execute_result"
    }
   ],
   "source": [
    "demographics = gp.read_file(\"./demographic_KY/precinct_demographic_KY.geojson\")\n",
    "demographics.head()"
   ]
  },
  {
   "cell_type": "code",
   "execution_count": 187,
   "metadata": {},
   "outputs": [
    {
     "name": "stdout",
     "output_type": "stream",
     "text": [
      "696\n"
     ]
    }
   ],
   "source": [
    "import random\n",
    "count = 0\n",
    "for i, row in congress_votes.iterrows():    \n",
    "    if row['democrat'] == 0 and row['republican'] == 0:\n",
    "        chance = random.randint(0, 10)\n",
    "        if demographics.at[i,'total'] > 10:\n",
    "            if chance > 0:\n",
    "                scale = random.randint(30, 50) / 100\n",
    "                president_votes.at[i, 'democrat'] = demographics.at[i, 'total'] * scale\n",
    "                president_votes.at[i, 'republican'] = demographics.at[i, 'total'] * (0.7 - scale)\n",
    "                \n",
    "                scale = random.randint(20, 40) / 100\n",
    "                congress_votes.at[i, 'democrat'] = demographics.at[i, 'total'] * scale\n",
    "                congress_votes.at[i, 'republican'] = demographics.at[i, 'total'] * (0.5 - scale)\n",
    "                count += 1\n",
    "print(count)"
   ]
  },
  {
   "cell_type": "code",
   "execution_count": 195,
   "metadata": {},
   "outputs": [
    {
     "name": "stdout",
     "output_type": "stream",
     "text": [
      "(56, 3)\n"
     ]
    },
    {
     "data": {
      "text/html": [
       "<div>\n",
       "<style scoped>\n",
       "    .dataframe tbody tr th:only-of-type {\n",
       "        vertical-align: middle;\n",
       "    }\n",
       "\n",
       "    .dataframe tbody tr th {\n",
       "        vertical-align: top;\n",
       "    }\n",
       "\n",
       "    .dataframe thead th {\n",
       "        text-align: right;\n",
       "    }\n",
       "</style>\n",
       "<table border=\"1\" class=\"dataframe\">\n",
       "  <thead>\n",
       "    <tr style=\"text-align: right;\">\n",
       "      <th></th>\n",
       "      <th>id</th>\n",
       "      <th>democrat</th>\n",
       "      <th>republican</th>\n",
       "    </tr>\n",
       "  </thead>\n",
       "  <tbody>\n",
       "    <tr>\n",
       "      <th>2</th>\n",
       "      <td>21147F106</td>\n",
       "      <td>15</td>\n",
       "      <td>83</td>\n",
       "    </tr>\n",
       "  </tbody>\n",
       "</table>\n",
       "</div>"
      ],
      "text/plain": [
       "          id  democrat  republican\n",
       "2  21147F106        15          83"
      ]
     },
     "execution_count": 195,
     "metadata": {},
     "output_type": "execute_result"
    }
   ],
   "source": [
    "print(congress_votes[congress_votes['republican'] == 0].shape)\n",
    "congress_votes[congress_votes['id'] == '21147F106'].head()"
   ]
  },
  {
   "cell_type": "code",
   "execution_count": 153,
   "metadata": {},
   "outputs": [
    {
     "name": "stdout",
     "output_type": "stream",
     "text": [
      "686\n"
     ]
    }
   ],
   "source": [
    "count = 0\n",
    "for i, row in congress_votes.iterrows():\n",
    "    scale = random.randint(20, 40) / 100\n",
    "    if row['democrat'] ==0 and row['republican'] == 0:\n",
    "        chance = random.randint(0, 10)\n",
    "        if demographics.at[i,'total'] > 10:\n",
    "            if chance > 0:\n",
    "                congress_votes.at[i, 'democrat'] = demographics.at[i, 'total'] * scale\n",
    "                congress_votes.at[i, 'republican'] = demographics.at[i, 'total'] * (0.5 - scale)\n",
    "                count += 1\n",
    "print(count)"
   ]
  },
  {
   "cell_type": "code",
   "execution_count": 155,
   "metadata": {},
   "outputs": [
    {
     "data": {
      "text/plain": [
       "(3583, 3)"
      ]
     },
     "execution_count": 155,
     "metadata": {},
     "output_type": "execute_result"
    }
   ],
   "source": [
    "votes = pd.read_json('./election/KY_congress2016.json')  \n",
    "votes.shape"
   ]
  },
  {
   "cell_type": "code",
   "execution_count": 193,
   "metadata": {},
   "outputs": [
    {
     "name": "stdout",
     "output_type": "stream",
     "text": [
      "<mysql.connector.connection_cext.CMySQLConnection object at 0x00000203DA1D34C8>\n"
     ]
    }
   ],
   "source": [
    "#POPULATE DATABASE\n",
    "mydb = mysql.connector.connect(\n",
    "    host=\"mysql3.cs.stonybrook.edu\",\n",
    "    user='mhaczynska',\n",
    "    passwd=\"110670160\",\n",
    "    database = 'mhaczynska'    \n",
    ")\n",
    "\n",
    "cursor = mydb.cursor()\n",
    "print (mydb)"
   ]
  },
  {
   "cell_type": "code",
   "execution_count": 196,
   "metadata": {},
   "outputs": [],
   "source": [
    "add_votes_querry = (\"INSERT INTO mhaczynska.ELECTION_DATA \"\n",
    "               \"(PRECINCT, STATE, DEMOCRATIC_VOTES, REPUBLICAN_VOTES, ELECTION_TYPE, YEAR) \"\n",
    "               \"VALUES (%s, %s, %s, %s, %s, %s)\")\n",
    "\n",
    "STATE = 'KY'\n",
    "YEAR = 2016\n",
    "ELECTION_TYPE = 'PRESIDENTIAL'\n",
    "add_election = []\n",
    "for index, row in president_votes.iterrows():\n",
    "    \n",
    "    vote_row = (row['id'], STATE, row['democrat'], row['republican'], ELECTION_TYPE, YEAR)    \n",
    "    add_election.append(vote_row)\n",
    "    \n",
    "#print(add_election)    \n",
    "    \n",
    "cursor.executemany(add_votes_querry, add_election)\n",
    "mydb.commit()"
   ]
  },
  {
   "cell_type": "code",
   "execution_count": 197,
   "metadata": {},
   "outputs": [],
   "source": [
    "cursor.close()\n",
    "mydb.close()"
   ]
  },
  {
   "cell_type": "code",
   "execution_count": null,
   "metadata": {},
   "outputs": [],
   "source": []
  }
 ],
 "metadata": {
  "kernelspec": {
   "display_name": "Python 3",
   "language": "python",
   "name": "python3"
  },
  "language_info": {
   "codemirror_mode": {
    "name": "ipython",
    "version": 3
   },
   "file_extension": ".py",
   "mimetype": "text/x-python",
   "name": "python",
   "nbconvert_exporter": "python",
   "pygments_lexer": "ipython3",
   "version": "3.7.7"
  }
 },
 "nbformat": 4,
 "nbformat_minor": 4
}
