{
 "cells": [
  {
   "cell_type": "code",
   "execution_count": 2,
   "metadata": {},
   "outputs": [],
   "source": [
    "import geopandas as gp\n",
    "import csv\n",
    "import pandas as pd\n",
    "from shapely.geometry import LineString\n",
    "import mysql.connector\n",
    "from shapely.geometry import Polygon, mapping\n",
    "import datetime\n",
    "import json "
   ]
  },
  {
   "cell_type": "code",
   "execution_count": 11,
   "metadata": {},
   "outputs": [],
   "source": [
    "file = \"./state_shapes.json\"\n",
    "state_boundary = gp.read_file(file)"
   ]
  },
  {
   "cell_type": "code",
   "execution_count": 12,
   "metadata": {},
   "outputs": [
    {
     "data": {
      "text/html": [
       "<div>\n",
       "<style scoped>\n",
       "    .dataframe tbody tr th:only-of-type {\n",
       "        vertical-align: middle;\n",
       "    }\n",
       "\n",
       "    .dataframe tbody tr th {\n",
       "        vertical-align: top;\n",
       "    }\n",
       "\n",
       "    .dataframe thead th {\n",
       "        text-align: right;\n",
       "    }\n",
       "</style>\n",
       "<table border=\"1\" class=\"dataframe\">\n",
       "  <thead>\n",
       "    <tr style=\"text-align: right;\">\n",
       "      <th></th>\n",
       "      <th>REGION</th>\n",
       "      <th>DIVISION</th>\n",
       "      <th>STATEFP</th>\n",
       "      <th>STATENS</th>\n",
       "      <th>GEOID</th>\n",
       "      <th>STUSPS</th>\n",
       "      <th>NAME</th>\n",
       "      <th>LSAD</th>\n",
       "      <th>MTFCC</th>\n",
       "      <th>FUNCSTAT</th>\n",
       "      <th>ALAND</th>\n",
       "      <th>AWATER</th>\n",
       "      <th>INTPTLAT</th>\n",
       "      <th>INTPTLON</th>\n",
       "      <th>geometry</th>\n",
       "    </tr>\n",
       "  </thead>\n",
       "  <tbody>\n",
       "    <tr>\n",
       "      <th>0</th>\n",
       "      <td>1</td>\n",
       "      <td>2</td>\n",
       "      <td>42</td>\n",
       "      <td>01779798</td>\n",
       "      <td>42</td>\n",
       "      <td>PA</td>\n",
       "      <td>Pennsylvania</td>\n",
       "      <td>00</td>\n",
       "      <td>G4000</td>\n",
       "      <td>A</td>\n",
       "      <td>115880457407</td>\n",
       "      <td>3398574954</td>\n",
       "      <td>+40.9046013</td>\n",
       "      <td>-077.8275298</td>\n",
       "      <td>MULTIPOLYGON (((-80.51935 41.84956, -80.51922 ...</td>\n",
       "    </tr>\n",
       "    <tr>\n",
       "      <th>1</th>\n",
       "      <td>3</td>\n",
       "      <td>6</td>\n",
       "      <td>21</td>\n",
       "      <td>01779786</td>\n",
       "      <td>21</td>\n",
       "      <td>KY</td>\n",
       "      <td>Kentucky</td>\n",
       "      <td>00</td>\n",
       "      <td>G4000</td>\n",
       "      <td>A</td>\n",
       "      <td>102282218059</td>\n",
       "      <td>2372611005</td>\n",
       "      <td>+37.5336844</td>\n",
       "      <td>-085.2929801</td>\n",
       "      <td>MULTIPOLYGON (((-88.06133 37.50533, -88.06368 ...</td>\n",
       "    </tr>\n",
       "    <tr>\n",
       "      <th>2</th>\n",
       "      <td>1</td>\n",
       "      <td>2</td>\n",
       "      <td>36</td>\n",
       "      <td>01779796</td>\n",
       "      <td>36</td>\n",
       "      <td>NY</td>\n",
       "      <td>New York</td>\n",
       "      <td>00</td>\n",
       "      <td>G4000</td>\n",
       "      <td>A</td>\n",
       "      <td>122050000805</td>\n",
       "      <td>19246143659</td>\n",
       "      <td>+42.9133974</td>\n",
       "      <td>-075.5962723</td>\n",
       "      <td>MULTIPOLYGON (((-79.31214 42.68680, -79.14347 ...</td>\n",
       "    </tr>\n",
       "  </tbody>\n",
       "</table>\n",
       "</div>"
      ],
      "text/plain": [
       "  REGION DIVISION STATEFP   STATENS GEOID STUSPS          NAME LSAD  MTFCC  \\\n",
       "0      1        2      42  01779798    42     PA  Pennsylvania   00  G4000   \n",
       "1      3        6      21  01779786    21     KY      Kentucky   00  G4000   \n",
       "2      1        2      36  01779796    36     NY      New York   00  G4000   \n",
       "\n",
       "  FUNCSTAT         ALAND       AWATER     INTPTLAT      INTPTLON  \\\n",
       "0        A  115880457407   3398574954  +40.9046013  -077.8275298   \n",
       "1        A  102282218059   2372611005  +37.5336844  -085.2929801   \n",
       "2        A  122050000805  19246143659  +42.9133974  -075.5962723   \n",
       "\n",
       "                                            geometry  \n",
       "0  MULTIPOLYGON (((-80.51935 41.84956, -80.51922 ...  \n",
       "1  MULTIPOLYGON (((-88.06133 37.50533, -88.06368 ...  \n",
       "2  MULTIPOLYGON (((-79.31214 42.68680, -79.14347 ...  "
      ]
     },
     "execution_count": 12,
     "metadata": {},
     "output_type": "execute_result"
    }
   ],
   "source": [
    "state_boundary.head()"
   ]
  },
  {
   "cell_type": "code",
   "execution_count": 14,
   "metadata": {},
   "outputs": [
    {
     "data": {
      "text/html": [
       "<div>\n",
       "<style scoped>\n",
       "    .dataframe tbody tr th:only-of-type {\n",
       "        vertical-align: middle;\n",
       "    }\n",
       "\n",
       "    .dataframe tbody tr th {\n",
       "        vertical-align: top;\n",
       "    }\n",
       "\n",
       "    .dataframe thead th {\n",
       "        text-align: right;\n",
       "    }\n",
       "</style>\n",
       "<table border=\"1\" class=\"dataframe\">\n",
       "  <thead>\n",
       "    <tr style=\"text-align: right;\">\n",
       "      <th></th>\n",
       "      <th>id</th>\n",
       "      <th>centerX</th>\n",
       "      <th>centerY</th>\n",
       "      <th>area</th>\n",
       "      <th>geometry</th>\n",
       "    </tr>\n",
       "  </thead>\n",
       "  <tbody>\n",
       "    <tr>\n",
       "      <th>0</th>\n",
       "      <td>PA</td>\n",
       "      <td>None</td>\n",
       "      <td>None</td>\n",
       "      <td>None</td>\n",
       "      <td>MULTIPOLYGON (((-80.51935 41.84956, -80.51922 ...</td>\n",
       "    </tr>\n",
       "    <tr>\n",
       "      <th>1</th>\n",
       "      <td>KY</td>\n",
       "      <td>None</td>\n",
       "      <td>None</td>\n",
       "      <td>None</td>\n",
       "      <td>MULTIPOLYGON (((-88.06133 37.50533, -88.06368 ...</td>\n",
       "    </tr>\n",
       "    <tr>\n",
       "      <th>2</th>\n",
       "      <td>NY</td>\n",
       "      <td>None</td>\n",
       "      <td>None</td>\n",
       "      <td>None</td>\n",
       "      <td>MULTIPOLYGON (((-79.31214 42.68680, -79.14347 ...</td>\n",
       "    </tr>\n",
       "  </tbody>\n",
       "</table>\n",
       "</div>"
      ],
      "text/plain": [
       "   id centerX centerY  area                                           geometry\n",
       "0  PA    None    None  None  MULTIPOLYGON (((-80.51935 41.84956, -80.51922 ...\n",
       "1  KY    None    None  None  MULTIPOLYGON (((-88.06133 37.50533, -88.06368 ...\n",
       "2  NY    None    None  None  MULTIPOLYGON (((-79.31214 42.68680, -79.14347 ..."
      ]
     },
     "execution_count": 14,
     "metadata": {},
     "output_type": "execute_result"
    }
   ],
   "source": [
    "#Rename columns\n",
    "state_boundary.rename(columns = {\"STUSPS\":\"id\"}, inplace = True)\n",
    "\n",
    "#Drop column\n",
    "state_boundary = state_boundary.drop (columns = ['REGION', 'DIVISION', 'STATEFP', 'STATENS', 'GEOID', 'NAME', \n",
    "                         'LSAD', 'MTFCC', 'FUNCSTAT', 'ALAND', 'AWATER', 'INTPTLAT', 'INTPTLON'])\n",
    "\n",
    "#Add type columns\n",
    "state_boundary.insert(1, 'centerX', None)\n",
    "state_boundary.insert(2, 'centerY', None)\n",
    "state_boundary.insert(3, 'area', None)\n",
    "\n",
    "state_boundary.head()\n"
   ]
  },
  {
   "cell_type": "code",
   "execution_count": 15,
   "metadata": {},
   "outputs": [
    {
     "data": {
      "text/html": [
       "<div>\n",
       "<style scoped>\n",
       "    .dataframe tbody tr th:only-of-type {\n",
       "        vertical-align: middle;\n",
       "    }\n",
       "\n",
       "    .dataframe tbody tr th {\n",
       "        vertical-align: top;\n",
       "    }\n",
       "\n",
       "    .dataframe thead th {\n",
       "        text-align: right;\n",
       "    }\n",
       "</style>\n",
       "<table border=\"1\" class=\"dataframe\">\n",
       "  <thead>\n",
       "    <tr style=\"text-align: right;\">\n",
       "      <th></th>\n",
       "      <th>id</th>\n",
       "      <th>centerX</th>\n",
       "      <th>centerY</th>\n",
       "      <th>area</th>\n",
       "      <th>geometry</th>\n",
       "    </tr>\n",
       "  </thead>\n",
       "  <tbody>\n",
       "    <tr>\n",
       "      <th>0</th>\n",
       "      <td>PA</td>\n",
       "      <td>-77.6048</td>\n",
       "      <td>41.1179</td>\n",
       "      <td>12.7472</td>\n",
       "      <td>MULTIPOLYGON (((-80.51935 41.84956, -80.51922 ...</td>\n",
       "    </tr>\n",
       "    <tr>\n",
       "      <th>1</th>\n",
       "      <td>KY</td>\n",
       "      <td>-85.7696</td>\n",
       "      <td>37.8223</td>\n",
       "      <td>10.6681</td>\n",
       "      <td>MULTIPOLYGON (((-88.06133 37.50533, -88.06368 ...</td>\n",
       "    </tr>\n",
       "    <tr>\n",
       "      <th>2</th>\n",
       "      <td>NY</td>\n",
       "      <td>-75.77</td>\n",
       "      <td>42.746</td>\n",
       "      <td>15.5804</td>\n",
       "      <td>MULTIPOLYGON (((-79.31214 42.68680, -79.14347 ...</td>\n",
       "    </tr>\n",
       "  </tbody>\n",
       "</table>\n",
       "</div>"
      ],
      "text/plain": [
       "   id  centerX  centerY     area  \\\n",
       "0  PA -77.6048  41.1179  12.7472   \n",
       "1  KY -85.7696  37.8223  10.6681   \n",
       "2  NY   -75.77   42.746  15.5804   \n",
       "\n",
       "                                            geometry  \n",
       "0  MULTIPOLYGON (((-80.51935 41.84956, -80.51922 ...  \n",
       "1  MULTIPOLYGON (((-88.06133 37.50533, -88.06368 ...  \n",
       "2  MULTIPOLYGON (((-79.31214 42.68680, -79.14347 ...  "
      ]
     },
     "execution_count": 15,
     "metadata": {},
     "output_type": "execute_result"
    }
   ],
   "source": [
    "#ADD area and centers\n",
    "for i, row in state_boundary.iterrows():\n",
    "    state_boundary.at[i, 'area'] = row.geometry.area\n",
    "    bounds = row.geometry.bounds\n",
    "    centerX = (bounds[0] + bounds[2]) / 2\n",
    "    centerY = (bounds[1] + bounds[3]) / 2\n",
    "    state_boundary.at[i, 'centerX'] = centerX\n",
    "    state_boundary.at[i, 'centerY'] = centerY\n",
    "\n",
    "state_boundary.head()"
   ]
  },
  {
   "cell_type": "code",
   "execution_count": 16,
   "metadata": {},
   "outputs": [],
   "source": [
    "state_boundary.to_file(\"./states_boundary.geojson\", driver='GeoJSON')"
   ]
  },
  {
   "cell_type": "code",
   "execution_count": 19,
   "metadata": {},
   "outputs": [
    {
     "name": "stdout",
     "output_type": "stream",
     "text": [
      "<mysql.connector.connection_cext.CMySQLConnection object at 0x000002B9E5D2A688>\n"
     ]
    }
   ],
   "source": [
    "#POPULATE DATABASE\n",
    "mydb = mysql.connector.connect(\n",
    "    host=\"mysql3.cs.stonybrook.edu\",\n",
    "    user='mhaczynska',\n",
    "    passwd=\"110670160\",\n",
    "    database = 'mhaczynska'    \n",
    ")\n",
    "\n",
    "cursor = mydb.cursor()\n",
    "print (mydb)"
   ]
  },
  {
   "cell_type": "code",
   "execution_count": 20,
   "metadata": {
    "scrolled": true
   },
   "outputs": [
    {
     "data": {
      "text/html": [
       "<div>\n",
       "<style scoped>\n",
       "    .dataframe tbody tr th:only-of-type {\n",
       "        vertical-align: middle;\n",
       "    }\n",
       "\n",
       "    .dataframe tbody tr th {\n",
       "        vertical-align: top;\n",
       "    }\n",
       "\n",
       "    .dataframe thead th {\n",
       "        text-align: right;\n",
       "    }\n",
       "</style>\n",
       "<table border=\"1\" class=\"dataframe\">\n",
       "  <thead>\n",
       "    <tr style=\"text-align: right;\">\n",
       "      <th></th>\n",
       "      <th>id</th>\n",
       "      <th>centerX</th>\n",
       "      <th>centerY</th>\n",
       "      <th>area</th>\n",
       "      <th>geometry</th>\n",
       "    </tr>\n",
       "  </thead>\n",
       "  <tbody>\n",
       "    <tr>\n",
       "      <th>0</th>\n",
       "      <td>PA</td>\n",
       "      <td>-77.6048035</td>\n",
       "      <td>41.1179355</td>\n",
       "      <td>12.7471968513065</td>\n",
       "      <td>MULTIPOLYGON (((-80.51935 41.84956, -80.51922 ...</td>\n",
       "    </tr>\n",
       "    <tr>\n",
       "      <th>1</th>\n",
       "      <td>KY</td>\n",
       "      <td>-85.76960750000001</td>\n",
       "      <td>37.82234</td>\n",
       "      <td>10.668081506716</td>\n",
       "      <td>MULTIPOLYGON (((-88.06133 37.50533, -88.06368 ...</td>\n",
       "    </tr>\n",
       "    <tr>\n",
       "      <th>2</th>\n",
       "      <td>NY</td>\n",
       "      <td>-75.77002999999999</td>\n",
       "      <td>42.7460485</td>\n",
       "      <td>15.58035125575651</td>\n",
       "      <td>MULTIPOLYGON (((-79.31214 42.68680, -79.14347 ...</td>\n",
       "    </tr>\n",
       "  </tbody>\n",
       "</table>\n",
       "</div>"
      ],
      "text/plain": [
       "   id             centerX     centerY               area  \\\n",
       "0  PA         -77.6048035  41.1179355   12.7471968513065   \n",
       "1  KY  -85.76960750000001    37.82234    10.668081506716   \n",
       "2  NY  -75.77002999999999  42.7460485  15.58035125575651   \n",
       "\n",
       "                                            geometry  \n",
       "0  MULTIPOLYGON (((-80.51935 41.84956, -80.51922 ...  \n",
       "1  MULTIPOLYGON (((-88.06133 37.50533, -88.06368 ...  \n",
       "2  MULTIPOLYGON (((-79.31214 42.68680, -79.14347 ...  "
      ]
     },
     "execution_count": 20,
     "metadata": {},
     "output_type": "execute_result"
    }
   ],
   "source": [
    "file = \"./states_boundary.geojson\"\n",
    "states = gp.read_file(file)\n",
    "states.head()\n"
   ]
  },
  {
   "cell_type": "code",
   "execution_count": null,
   "metadata": {},
   "outputs": [],
   "source": []
  },
  {
   "cell_type": "code",
   "execution_count": 22,
   "metadata": {},
   "outputs": [],
   "source": [
    "add_state_querry = (\"INSERT INTO mhaczynska.state \"\n",
    "               \"(NAME, CENTER_X, CENTER_Y, STATE_GEOJSON) \"\n",
    "               \"VALUES (%s, %s, %s, %s)\")\n",
    "\n",
    "#update_precinct_querry = \"UPDATE mhaczynska.precinct SET CENTER_X = %s, CENTER_Y = %s WHERE GEO_ID = %s\"\n",
    "\n",
    "for index, row in states.iterrows():\n",
    "    geometry_str = row.geometry.__geo_interface__\n",
    "    geometry_str = json.dumps(geometry_str)     \n",
    "    state_data = (row['id'], row['centerX'], row['centerY'], geometry_str)\n",
    "    #update_precinct = (row['centerX'], row['centerY'], row['id'])\n",
    "    cursor.execute(add_state_querry, state_data)\n",
    "    mydb.commit()"
   ]
  },
  {
   "cell_type": "code",
   "execution_count": 23,
   "metadata": {},
   "outputs": [],
   "source": [
    "cursor.close()\n",
    "mydb.close()"
   ]
  },
  {
   "cell_type": "code",
   "execution_count": null,
   "metadata": {},
   "outputs": [],
   "source": []
  }
 ],
 "metadata": {
  "kernelspec": {
   "display_name": "Python 3",
   "language": "python",
   "name": "python3"
  },
  "language_info": {
   "codemirror_mode": {
    "name": "ipython",
    "version": 3
   },
   "file_extension": ".py",
   "mimetype": "text/x-python",
   "name": "python",
   "nbconvert_exporter": "python",
   "pygments_lexer": "ipython3",
   "version": "3.7.7"
  }
 },
 "nbformat": 4,
 "nbformat_minor": 4
}
