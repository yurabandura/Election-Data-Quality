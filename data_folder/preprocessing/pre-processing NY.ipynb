{
 "cells": [
  {
   "cell_type": "code",
   "execution_count": 1,
   "metadata": {},
   "outputs": [],
   "source": [
    "import geopandas as gp\n",
    "import csv\n",
    "import pandas as pd\n",
    "from shapely.geometry import LineString\n",
    "import mysql.connector\n",
    "from shapely.geometry import Polygon, mapping\n",
    "import datetime\n",
    "import json "
   ]
  },
  {
   "cell_type": "code",
   "execution_count": 19,
   "metadata": {},
   "outputs": [],
   "source": [
    "file = \"./NY/ny_simplified.geojson\"\n",
    "state_boundary = gp.read_file(file)"
   ]
  },
  {
   "cell_type": "code",
   "execution_count": null,
   "metadata": {},
   "outputs": [],
   "source": [
    "reader = csv.reader(open('./NY_county.csv', 'r'))\n",
    "county_fips = {}\n",
    "for row in reader:\n",
    "    key = row[5]\n",
    "    value = row[0]\n",
    "    county_fips[key] = value"
   ]
  },
  {
   "cell_type": "code",
   "execution_count": 20,
   "metadata": {},
   "outputs": [
    {
     "data": {
      "text/html": [
       "<div>\n",
       "<style scoped>\n",
       "    .dataframe tbody tr th:only-of-type {\n",
       "        vertical-align: middle;\n",
       "    }\n",
       "\n",
       "    .dataframe tbody tr th {\n",
       "        vertical-align: top;\n",
       "    }\n",
       "\n",
       "    .dataframe thead th {\n",
       "        text-align: right;\n",
       "    }\n",
       "</style>\n",
       "<table border=\"1\" class=\"dataframe\">\n",
       "  <thead>\n",
       "    <tr style=\"text-align: right;\">\n",
       "      <th></th>\n",
       "      <th>id</th>\n",
       "      <th>canonical</th>\n",
       "      <th>type</th>\n",
       "      <th>centerX</th>\n",
       "      <th>centerY</th>\n",
       "      <th>neighbors</th>\n",
       "      <th>geometry</th>\n",
       "    </tr>\n",
       "  </thead>\n",
       "  <tbody>\n",
       "    <tr>\n",
       "      <th>0</th>\n",
       "      <td>36001263</td>\n",
       "      <td>NY Albany 263</td>\n",
       "      <td>ORIGINAL</td>\n",
       "      <td>+42.7272097</td>\n",
       "      <td>-073.7873353</td>\n",
       "      <td>36001262,36001253,36001247,36001252,36001265,3...</td>\n",
       "      <td>MULTIPOLYGON (((-73.79031 42.72261, -73.79523 ...</td>\n",
       "    </tr>\n",
       "    <tr>\n",
       "      <th>1</th>\n",
       "      <td>36001232</td>\n",
       "      <td>NY Albany 232</td>\n",
       "      <td>ORIGINAL</td>\n",
       "      <td>+42.7295842</td>\n",
       "      <td>-073.7227157</td>\n",
       "      <td>36001243,36001249,36001343,36001344,36001251,3...</td>\n",
       "      <td>MULTIPOLYGON (((-73.71364 42.72799, -73.70998 ...</td>\n",
       "    </tr>\n",
       "    <tr>\n",
       "      <th>2</th>\n",
       "      <td>36001342</td>\n",
       "      <td>NY Albany 342</td>\n",
       "      <td>ORIGINAL</td>\n",
       "      <td>+42.7348777</td>\n",
       "      <td>-073.7093285</td>\n",
       "      <td>36001233,36001243,36001340,36001341,36001339,3...</td>\n",
       "      <td>MULTIPOLYGON (((-73.71210 42.73705, -73.71182 ...</td>\n",
       "    </tr>\n",
       "    <tr>\n",
       "      <th>3</th>\n",
       "      <td>36001341</td>\n",
       "      <td>NY Albany 341</td>\n",
       "      <td>ORIGINAL</td>\n",
       "      <td>+42.7355901</td>\n",
       "      <td>-073.7037615</td>\n",
       "      <td>36001233,36001342,36001339,36001285</td>\n",
       "      <td>MULTIPOLYGON (((-73.70277 42.73421, -73.70857 ...</td>\n",
       "    </tr>\n",
       "    <tr>\n",
       "      <th>4</th>\n",
       "      <td>36001277</td>\n",
       "      <td>NY Albany 277</td>\n",
       "      <td>ORIGINAL</td>\n",
       "      <td>+42.7313271</td>\n",
       "      <td>-073.8385576</td>\n",
       "      <td>36001275,36001276,36001273</td>\n",
       "      <td>MULTIPOLYGON (((-73.82521 42.72768, -73.82606 ...</td>\n",
       "    </tr>\n",
       "  </tbody>\n",
       "</table>\n",
       "</div>"
      ],
      "text/plain": [
       "         id      canonical      type      centerX       centerY  \\\n",
       "0  36001263  NY Albany 263  ORIGINAL  +42.7272097  -073.7873353   \n",
       "1  36001232  NY Albany 232  ORIGINAL  +42.7295842  -073.7227157   \n",
       "2  36001342  NY Albany 342  ORIGINAL  +42.7348777  -073.7093285   \n",
       "3  36001341  NY Albany 341  ORIGINAL  +42.7355901  -073.7037615   \n",
       "4  36001277  NY Albany 277  ORIGINAL  +42.7313271  -073.8385576   \n",
       "\n",
       "                                           neighbors  \\\n",
       "0  36001262,36001253,36001247,36001252,36001265,3...   \n",
       "1  36001243,36001249,36001343,36001344,36001251,3...   \n",
       "2  36001233,36001243,36001340,36001341,36001339,3...   \n",
       "3                36001233,36001342,36001339,36001285   \n",
       "4                         36001275,36001276,36001273   \n",
       "\n",
       "                                            geometry  \n",
       "0  MULTIPOLYGON (((-73.79031 42.72261, -73.79523 ...  \n",
       "1  MULTIPOLYGON (((-73.71364 42.72799, -73.70998 ...  \n",
       "2  MULTIPOLYGON (((-73.71210 42.73705, -73.71182 ...  \n",
       "3  MULTIPOLYGON (((-73.70277 42.73421, -73.70857 ...  \n",
       "4  MULTIPOLYGON (((-73.82521 42.72768, -73.82606 ...  "
      ]
     },
     "execution_count": 20,
     "metadata": {},
     "output_type": "execute_result"
    }
   ],
   "source": [
    "state_boundary.head()"
   ]
  },
  {
   "cell_type": "code",
   "execution_count": null,
   "metadata": {},
   "outputs": [],
   "source": [
    "#Rename columns\n",
    "state_boundary.rename(columns = {\"GEOID10\":\"id\"}, inplace = True)\n",
    "state_boundary.rename(columns = {\"INTPTLAT10\":\"centerX\"}, inplace = True)\n",
    "state_boundary.rename(columns = {\"INTPTLON10\":\"centerY\"}, inplace = True)\n",
    "state_boundary.rename(columns = {\"NEIGHBORS\":\"neighbors\"}, inplace = True)\n",
    "\n",
    "#Add type columns\n",
    "state_boundary.insert(1, 'canonical', None)\n",
    "state_boundary.insert(2, 'type', 'ORIGINAL') \n",
    "\n",
    "#Drop column\n",
    "#df = df.drop (columns = ['ALAND10'])\n",
    "state_boundary.head()\n"
   ]
  },
  {
   "cell_type": "code",
   "execution_count": null,
   "metadata": {},
   "outputs": [],
   "source": [
    "#Canonical name\n",
    "STATE = 'NY'\n",
    "for i, row in ny_boundary.iterrows():   \n",
    "    id = state_boundary.at[i, 'id']\n",
    "    county_id = id[ : 5]\n",
    "    canonical_id = state + ' ' + county_fips[county_id] + ' ' + id[5:]\n",
    "    state_boundary.at[i, 'canonical'] = canonical_id\n",
    "    \n",
    "    #print (canonicalId)\n",
    "state_boundary.head()"
   ]
  },
  {
   "cell_type": "code",
   "execution_count": null,
   "metadata": {},
   "outputs": [],
   "source": [
    "#Replace multipoly with polygon\n",
    "arr_polygon = [0] * len(df)\n",
    "arr_polygon = gp.GeoDataFrame (arr_polygon, columns = ['geometry'])\n",
    "for index, row in df.iterrows():\n",
    "    #Progress\n",
    "    if index % 1000 == 0:\n",
    "        print (index)\n",
    "    polygon = row.geometry[0]\n",
    "    arr_polygon.loc[index] = polygon\n",
    "    \n",
    "df['geometry'] = arr_polygon\n",
    "df.head()    "
   ]
  },
  {
   "cell_type": "code",
   "execution_count": 21,
   "metadata": {},
   "outputs": [],
   "source": [
    "state_boundary.to_file(\"./NY/NY.geojson\", driver='GeoJSON')"
   ]
  },
  {
   "cell_type": "code",
   "execution_count": null,
   "metadata": {},
   "outputs": [],
   "source": [
    "### GENERATE NEIGHBORS\n",
    "\n",
    "file = \"../data/new/NY_precinct_boundary.geojson\"  \n",
    "state_boundary = gp.read_file(file) # open file\n",
    "\n",
    "state_boundary[\"neighbors\"] = None  # add NEIGHBORS column\n",
    "\n",
    "for index, row in state_boundary.iterrows():\n",
    "    if index % 1000 == 0:\n",
    "        print (datetime.datetime.now().strftime(\"%H:%M:%S\"), index)\n",
    "        \n",
    "    neighbors = state_boundary[~state_boundary.geometry.disjoint(row.geometry)].id.tolist()\n",
    "    # remove own name from the list\n",
    "    neighbors = [ name for name in neighbors if row.id != name ]\n",
    "    # add names of neighbors as NEIGHBORS value\n",
    "    state_boundary.at[index, 'neighbors'] = \", \".join(neighbors)\n",
    "\n",
    "state_boundary.to_file(\".NY/NY_neighbors.geojson\", driver='GeoJSON')"
   ]
  },
  {
   "cell_type": "code",
   "execution_count": 16,
   "metadata": {},
   "outputs": [],
   "source": [
    "def create_neighbors_df(neighbors, df):\n",
    "    neighbors = neighbors.split(',')\n",
    "    neighbors_df = df[df['id'].isin(neighbors)][['id', 'geometry']]\n",
    "    return neighbors_df "
   ]
  },
  {
   "cell_type": "code",
   "execution_count": 14,
   "metadata": {},
   "outputs": [
    {
     "data": {
      "text/html": [
       "<div>\n",
       "<style scoped>\n",
       "    .dataframe tbody tr th:only-of-type {\n",
       "        vertical-align: middle;\n",
       "    }\n",
       "\n",
       "    .dataframe tbody tr th {\n",
       "        vertical-align: top;\n",
       "    }\n",
       "\n",
       "    .dataframe thead th {\n",
       "        text-align: right;\n",
       "    }\n",
       "</style>\n",
       "<table border=\"1\" class=\"dataframe\">\n",
       "  <thead>\n",
       "    <tr style=\"text-align: right;\">\n",
       "      <th></th>\n",
       "      <th>id</th>\n",
       "      <th>neighbors</th>\n",
       "      <th>geometry</th>\n",
       "    </tr>\n",
       "  </thead>\n",
       "  <tbody>\n",
       "    <tr>\n",
       "      <th>0</th>\n",
       "      <td>36001263</td>\n",
       "      <td>36001262,36001253,36001247,36001252,36001265,3...</td>\n",
       "      <td>MULTIPOLYGON (((-73.79031 42.72261, -73.79523 ...</td>\n",
       "    </tr>\n",
       "    <tr>\n",
       "      <th>1</th>\n",
       "      <td>36001232</td>\n",
       "      <td>36001243,36001249,36001343,36001344,36001251,3...</td>\n",
       "      <td>MULTIPOLYGON (((-73.71364 42.72799, -73.71119 ...</td>\n",
       "    </tr>\n",
       "    <tr>\n",
       "      <th>2</th>\n",
       "      <td>36001342</td>\n",
       "      <td>36001233,36001243,36001340,36001341,36001339,3...</td>\n",
       "      <td>MULTIPOLYGON (((-73.71210 42.73705, -73.71182 ...</td>\n",
       "    </tr>\n",
       "    <tr>\n",
       "      <th>3</th>\n",
       "      <td>36001341</td>\n",
       "      <td>36001233,36001342,36001339,36001285</td>\n",
       "      <td>MULTIPOLYGON (((-73.70277 42.73421, -73.70857 ...</td>\n",
       "    </tr>\n",
       "    <tr>\n",
       "      <th>4</th>\n",
       "      <td>36001277</td>\n",
       "      <td>36001275,36001276,36001273</td>\n",
       "      <td>MULTIPOLYGON (((-73.82521 42.72768, -73.82606 ...</td>\n",
       "    </tr>\n",
       "  </tbody>\n",
       "</table>\n",
       "</div>"
      ],
      "text/plain": [
       "         id                                          neighbors  \\\n",
       "0  36001263  36001262,36001253,36001247,36001252,36001265,3...   \n",
       "1  36001232  36001243,36001249,36001343,36001344,36001251,3...   \n",
       "2  36001342  36001233,36001243,36001340,36001341,36001339,3...   \n",
       "3  36001341                36001233,36001342,36001339,36001285   \n",
       "4  36001277                         36001275,36001276,36001273   \n",
       "\n",
       "                                            geometry  \n",
       "0  MULTIPOLYGON (((-73.79031 42.72261, -73.79523 ...  \n",
       "1  MULTIPOLYGON (((-73.71364 42.72799, -73.71119 ...  \n",
       "2  MULTIPOLYGON (((-73.71210 42.73705, -73.71182 ...  \n",
       "3  MULTIPOLYGON (((-73.70277 42.73421, -73.70857 ...  \n",
       "4  MULTIPOLYGON (((-73.82521 42.72768, -73.82606 ...  "
      ]
     },
     "execution_count": 14,
     "metadata": {},
     "output_type": "execute_result"
    }
   ],
   "source": [
    "#INTERSECTIONS\n",
    "\n",
    "file = \"./NY/NY.geojson\"  \n",
    "precincts = gp.read_file(file) # open file\n",
    "precincts = precincts.drop(columns=['type', 'centerX', 'centerY', 'canonical'])\n",
    "precincts.head()"
   ]
  },
  {
   "cell_type": "code",
   "execution_count": 17,
   "metadata": {},
   "outputs": [
    {
     "name": "stdout",
     "output_type": "stream",
     "text": [
      "17:03:54 0\n",
      "17:04:40 1000\n",
      "17:05:41 2000\n",
      "17:06:38 3000\n",
      "17:07:26 4000\n",
      "17:08:05 5000\n",
      "17:08:59 6000\n",
      "17:10:00 7000\n",
      "17:10:40 8000\n",
      "17:11:31 9000\n",
      "17:12:35 10000\n",
      "17:13:19 11000\n",
      "17:14:14 12000\n",
      "17:15:14 13000\n",
      "17:16:18 14000\n"
     ]
    }
   ],
   "source": [
    "AREA_THRESHOLD = 1e-4\n",
    "intersections = gp.GeoDataFrame(crs = precincts.crs)\n",
    "\n",
    "for index, row in precincts.iterrows():\n",
    "    #For progress\n",
    "    if index % 1000 == 0:\n",
    "        print (datetime.datetime.now().strftime(\"%H:%M:%S\"), index)\n",
    "    neighbors = create_neighbors_df(row['neighbors'], precincts)\n",
    "    #print(neighbors)\n",
    "    # check if intersection occured\n",
    "    overlaps = neighbors[neighbors.geometry.overlaps(row.geometry)]['id'].tolist()\n",
    "    if len(overlaps) > 0:\n",
    "        # compare the area with threshold\n",
    "        for y in overlaps:\n",
    "            temp_area = gp.overlay(precincts.loc[precincts.id == y,], precincts.loc[precincts.id == row.id], how='intersection')\n",
    "            temp_area = temp_area.loc[temp_area.geometry.area >= AREA_THRESHOLD]\n",
    "            \n",
    "            if temp_area.shape[0] > 0:\n",
    "                intersections = gp.GeoDataFrame(pd.concat([temp_area, intersections], ignore_index=True),crs = precincts.crs)\n",
    "                intersections['sorted'] = intersections.apply(lambda y: sorted([y['id_1'],y['id_2']]), axis=1)\n",
    "                intersections['sorted'] = intersections.sorted.apply(lambda y: ''.join(y))\n",
    "                intersections = intersections.drop_duplicates('sorted')\n",
    "                intersections = intersections.reset_index()[['id_1','id_2','geometry']]\n",
    "                intersections = gp.GeoDataFrame(pd.concat([temp_area, intersections],ignore_index=True),crs=precincts.crs)"
   ]
  },
  {
   "cell_type": "code",
   "execution_count": 18,
   "metadata": {},
   "outputs": [
    {
     "data": {
      "text/plain": [
       "(0, 0)"
      ]
     },
     "execution_count": 18,
     "metadata": {},
     "output_type": "execute_result"
    }
   ],
   "source": [
    "intersections.shape"
   ]
  },
  {
   "cell_type": "code",
   "execution_count": null,
   "metadata": {},
   "outputs": [],
   "source": [
    "### GAPS\n",
    "\n",
    "file = \"./NY/NY_precinct_boundary_neighbors_full.geojson\"\n",
    "precincts = gp.read_file(file)\n",
    "\n",
    "precincts_diss = precincts[['geometry', 'type']]\n",
    "precincts_diss = precincts_diss.dissolve(by='type')\n",
    "#precincts_diss = df.drop (columns = ['type', 'id', 'canonical', 'centerX', 'centerY', 'area'])\n",
    "\n",
    "precincts_diss.head()"
   ]
  },
  {
   "cell_type": "code",
   "execution_count": null,
   "metadata": {},
   "outputs": [],
   "source": [
    "interior = precincts_diss.interiors.values.tolist()\n",
    "\n",
    "gaps = []\n",
    "for i in interior:\n",
    "    if i == []:\n",
    "        continue\n",
    "    #print(i[0].coords[:])    \n",
    "    gaps.append(Polygon(i[0]))\n",
    "    \n",
    "gaps = gp.GeoDataFrame(geometry = gaps, crs = precincts.crs)\n",
    "gaps['feature_touches'] = gaps.geometry.apply(lambda y: precincts.loc[precincts.touches(y)]['id'].tolist())\n",
    "gaps.head()"
   ]
  },
  {
   "cell_type": "code",
   "execution_count": null,
   "metadata": {},
   "outputs": [],
   "source": [
    "gaps.to_file(\"../data/new/NY_overlap.geojson\", driver='GeoJSON')"
   ]
  },
  {
   "cell_type": "code",
   "execution_count": 27,
   "metadata": {},
   "outputs": [
    {
     "name": "stdout",
     "output_type": "stream",
     "text": [
      "<mysql.connector.connection_cext.CMySQLConnection object at 0x000002E0EE255BC8>\n"
     ]
    }
   ],
   "source": [
    "#POPULATE DATABASE\n",
    "mydb = mysql.connector.connect(\n",
    "    host=\"mysql3.cs.stonybrook.edu\",\n",
    "    user='mhaczynska',\n",
    "    passwd=\"110670160\",\n",
    "    database = 'mhaczynska'    \n",
    ")\n",
    "\n",
    "cursor = mydb.cursor()\n",
    "print (mydb)"
   ]
  },
  {
   "cell_type": "code",
   "execution_count": 28,
   "metadata": {
    "scrolled": true
   },
   "outputs": [
    {
     "data": {
      "text/html": [
       "<div>\n",
       "<style scoped>\n",
       "    .dataframe tbody tr th:only-of-type {\n",
       "        vertical-align: middle;\n",
       "    }\n",
       "\n",
       "    .dataframe tbody tr th {\n",
       "        vertical-align: top;\n",
       "    }\n",
       "\n",
       "    .dataframe thead th {\n",
       "        text-align: right;\n",
       "    }\n",
       "</style>\n",
       "<table border=\"1\" class=\"dataframe\">\n",
       "  <thead>\n",
       "    <tr style=\"text-align: right;\">\n",
       "      <th></th>\n",
       "      <th>id</th>\n",
       "      <th>canonical</th>\n",
       "      <th>type</th>\n",
       "      <th>centerX</th>\n",
       "      <th>centerY</th>\n",
       "      <th>neighbors</th>\n",
       "      <th>geometry</th>\n",
       "    </tr>\n",
       "  </thead>\n",
       "  <tbody>\n",
       "    <tr>\n",
       "      <th>0</th>\n",
       "      <td>36001263</td>\n",
       "      <td>NY Albany 263</td>\n",
       "      <td>ORIGINAL</td>\n",
       "      <td>+42.7272097</td>\n",
       "      <td>-073.7873353</td>\n",
       "      <td>36001262,36001253,36001247,36001252,36001265,3...</td>\n",
       "      <td>MULTIPOLYGON (((-73.79031 42.72261, -73.79523 ...</td>\n",
       "    </tr>\n",
       "    <tr>\n",
       "      <th>1</th>\n",
       "      <td>36001232</td>\n",
       "      <td>NY Albany 232</td>\n",
       "      <td>ORIGINAL</td>\n",
       "      <td>+42.7295842</td>\n",
       "      <td>-073.7227157</td>\n",
       "      <td>36001243,36001249,36001343,36001344,36001251,3...</td>\n",
       "      <td>MULTIPOLYGON (((-73.71364 42.72799, -73.70998 ...</td>\n",
       "    </tr>\n",
       "    <tr>\n",
       "      <th>2</th>\n",
       "      <td>36001342</td>\n",
       "      <td>NY Albany 342</td>\n",
       "      <td>ORIGINAL</td>\n",
       "      <td>+42.7348777</td>\n",
       "      <td>-073.7093285</td>\n",
       "      <td>36001233,36001243,36001340,36001341,36001339,3...</td>\n",
       "      <td>MULTIPOLYGON (((-73.71210 42.73705, -73.71182 ...</td>\n",
       "    </tr>\n",
       "    <tr>\n",
       "      <th>3</th>\n",
       "      <td>36001341</td>\n",
       "      <td>NY Albany 341</td>\n",
       "      <td>ORIGINAL</td>\n",
       "      <td>+42.7355901</td>\n",
       "      <td>-073.7037615</td>\n",
       "      <td>36001233,36001342,36001339,36001285</td>\n",
       "      <td>MULTIPOLYGON (((-73.70277 42.73421, -73.70857 ...</td>\n",
       "    </tr>\n",
       "    <tr>\n",
       "      <th>4</th>\n",
       "      <td>36001277</td>\n",
       "      <td>NY Albany 277</td>\n",
       "      <td>ORIGINAL</td>\n",
       "      <td>+42.7313271</td>\n",
       "      <td>-073.8385576</td>\n",
       "      <td>36001275,36001276,36001273</td>\n",
       "      <td>MULTIPOLYGON (((-73.82521 42.72768, -73.82606 ...</td>\n",
       "    </tr>\n",
       "  </tbody>\n",
       "</table>\n",
       "</div>"
      ],
      "text/plain": [
       "         id      canonical      type      centerX       centerY  \\\n",
       "0  36001263  NY Albany 263  ORIGINAL  +42.7272097  -073.7873353   \n",
       "1  36001232  NY Albany 232  ORIGINAL  +42.7295842  -073.7227157   \n",
       "2  36001342  NY Albany 342  ORIGINAL  +42.7348777  -073.7093285   \n",
       "3  36001341  NY Albany 341  ORIGINAL  +42.7355901  -073.7037615   \n",
       "4  36001277  NY Albany 277  ORIGINAL  +42.7313271  -073.8385576   \n",
       "\n",
       "                                           neighbors  \\\n",
       "0  36001262,36001253,36001247,36001252,36001265,3...   \n",
       "1  36001243,36001249,36001343,36001344,36001251,3...   \n",
       "2  36001233,36001243,36001340,36001341,36001339,3...   \n",
       "3                36001233,36001342,36001339,36001285   \n",
       "4                         36001275,36001276,36001273   \n",
       "\n",
       "                                            geometry  \n",
       "0  MULTIPOLYGON (((-73.79031 42.72261, -73.79523 ...  \n",
       "1  MULTIPOLYGON (((-73.71364 42.72799, -73.70998 ...  \n",
       "2  MULTIPOLYGON (((-73.71210 42.73705, -73.71182 ...  \n",
       "3  MULTIPOLYGON (((-73.70277 42.73421, -73.70857 ...  \n",
       "4  MULTIPOLYGON (((-73.82521 42.72768, -73.82606 ...  "
      ]
     },
     "execution_count": 28,
     "metadata": {},
     "output_type": "execute_result"
    }
   ],
   "source": [
    "file = \"./NY/NY.geojson\"\n",
    "precincts = gp.read_file(file)\n",
    "precincts.head()\n"
   ]
  },
  {
   "cell_type": "code",
   "execution_count": 29,
   "metadata": {},
   "outputs": [],
   "source": [
    "add_precinct_querry = (\"INSERT INTO mhaczynska.precinct \"\n",
    "               \"(GEO_ID, NAME, STATE_NAME, CENTER_X, CENTER_Y, NEIGHBORS, PRECINCT_GEOJSON) \"\n",
    "               \"VALUES (%s, %s, %s, %s, %s, %s, %s)\")\n",
    "\n",
    "#update_precinct_querry = \"UPDATE mhaczynska.precinct SET CENTER_X = %s, CENTER_Y = %s WHERE GEO_ID = %s\"\n",
    "\n",
    "state = 'NY'\n",
    "#precinct_data = []\n",
    "for index, row in precincts.iterrows():\n",
    "    geometry_str = row.geometry.__geo_interface__\n",
    "    geometry_str = json.dumps(geometry_str)     \n",
    "    precinct_data = (row['id'], row['canonical'], state, row['centerX'], row['centerY'], row['neighbors'], geometry_str)\n",
    "    #precinct_data.append(precinct_row)\n",
    "    #update_precinct = (row['centerX'], row['centerY'], row['id'])\n",
    "    cursor.execute(add_precinct_querry, precinct_data)\n",
    "    mydb.commit()\n",
    "    "
   ]
  },
  {
   "cell_type": "code",
   "execution_count": 10,
   "metadata": {},
   "outputs": [],
   "source": [
    "#ADD NEIGHBORS\n",
    "add_neighbor_querry = (\"INSERT INTO mhaczynska.neighbors \"\n",
    "               \"(PRECINCT, NEIGHBOR_GEOID) \"\n",
    "               \"VALUES (%s, %s)\")\n",
    "\n",
    "neighbor_data = []\n",
    "for index, row in precincts.iterrows():\n",
    "    neighbors = row['neighbors']\n",
    "    neighbors = neighbors.split(\",\")    \n",
    "    for neighbor in neighbors:\n",
    "        neighbor_row = (row['id'], neighbor.strip())\n",
    "        neighbor_data.append(neighbor_row)\n",
    "cursor.executemany(add_neighbor_querry, neighbor_data)\n",
    "mydb.commit()"
   ]
  },
  {
   "cell_type": "code",
   "execution_count": 30,
   "metadata": {},
   "outputs": [],
   "source": [
    "cursor.close()\n",
    "mydb.close()"
   ]
  },
  {
   "cell_type": "code",
   "execution_count": null,
   "metadata": {},
   "outputs": [],
   "source": []
  }
 ],
 "metadata": {
  "kernelspec": {
   "display_name": "Python 3",
   "language": "python",
   "name": "python3"
  },
  "language_info": {
   "codemirror_mode": {
    "name": "ipython",
    "version": 3
   },
   "file_extension": ".py",
   "mimetype": "text/x-python",
   "name": "python",
   "nbconvert_exporter": "python",
   "pygments_lexer": "ipython3",
   "version": "3.7.7"
  }
 },
 "nbformat": 4,
 "nbformat_minor": 4
}
