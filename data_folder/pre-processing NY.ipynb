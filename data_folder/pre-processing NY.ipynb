{
 "cells": [
  {
   "cell_type": "code",
   "execution_count": 6,
   "metadata": {},
   "outputs": [],
   "source": [
    "import geopandas as gp\n",
    "import csv\n",
    "import pandas as pd\n",
    "from shapely.geometry import LineString\n",
    "import mysql.connector\n",
    "from shapely.geometry import Polygon, mapping\n",
    "import datetime\n",
    "import json "
   ]
  },
  {
   "cell_type": "code",
   "execution_count": null,
   "metadata": {},
   "outputs": [],
   "source": [
    "file = \"./NY/ny_p_neighbors11for_preprocessing.geojson\"\n",
    "state_boundary = gp.read_file(file)"
   ]
  },
  {
   "cell_type": "code",
   "execution_count": null,
   "metadata": {},
   "outputs": [],
   "source": [
    "reader = csv.reader(open('./NY_county.csv', 'r'))\n",
    "county_fips = {}\n",
    "for row in reader:\n",
    "    key = row[5]\n",
    "    value = row[0]\n",
    "    county_fips[key] = value"
   ]
  },
  {
   "cell_type": "code",
   "execution_count": null,
   "metadata": {},
   "outputs": [],
   "source": [
    "state_boundary.head()"
   ]
  },
  {
   "cell_type": "code",
   "execution_count": null,
   "metadata": {},
   "outputs": [],
   "source": [
    "#Rename columns\n",
    "state_boundary.rename(columns = {\"GEOID10\":\"id\"}, inplace = True)\n",
    "state_boundary.rename(columns = {\"INTPTLAT10\":\"centerX\"}, inplace = True)\n",
    "state_boundary.rename(columns = {\"INTPTLON10\":\"centerY\"}, inplace = True)\n",
    "state_boundary.rename(columns = {\"NEIGHBORS\":\"neighbors\"}, inplace = True)\n",
    "\n",
    "#Add type columns\n",
    "state_boundary.insert(1, 'canonical', None)\n",
    "state_boundary.insert(2, 'type', 'ORIGINAL') \n",
    "\n",
    "#Drop column\n",
    "#df = df.drop (columns = ['ALAND10'])\n",
    "state_boundary.head()\n"
   ]
  },
  {
   "cell_type": "code",
   "execution_count": null,
   "metadata": {},
   "outputs": [],
   "source": [
    "#Canonical name\n",
    "STATE = 'NY'\n",
    "for i, row in ny_boundary.iterrows():   \n",
    "    id = state_boundary.at[i, 'id']\n",
    "    county_id = id[ : 5]\n",
    "    canonical_id = state + ' ' + county_fips[county_id] + ' ' + id[5:]\n",
    "    state_boundary.at[i, 'canonical'] = canonical_id\n",
    "    \n",
    "    #print (canonicalId)\n",
    "state_boundary.head()"
   ]
  },
  {
   "cell_type": "code",
   "execution_count": null,
   "metadata": {},
   "outputs": [],
   "source": [
    "#Replace multipoly with polygon\n",
    "arr_polygon = [0] * len(df)\n",
    "arr_polygon = gp.GeoDataFrame (arr_polygon, columns = ['geometry'])\n",
    "for index, row in df.iterrows():\n",
    "    #Progress\n",
    "    if index % 1000 == 0:\n",
    "        print (index)\n",
    "    polygon = row.geometry[0]\n",
    "    arr_polygon.loc[index] = polygon\n",
    "    \n",
    "df['geometry'] = arr_polygon\n",
    "df.head()    "
   ]
  },
  {
   "cell_type": "code",
   "execution_count": null,
   "metadata": {},
   "outputs": [],
   "source": [
    "state_boundary.to_file(\"./NY/NY_precinct_boundary_neighbors_full.geojson\", driver='GeoJSON')"
   ]
  },
  {
   "cell_type": "code",
   "execution_count": 35,
   "metadata": {},
   "outputs": [
    {
     "name": "stdout",
     "output_type": "stream",
     "text": [
      "14:50:57 0\n",
      "14:51:38 1000\n",
      "14:52:18 2000\n",
      "14:52:59 3000\n",
      "14:53:39 4000\n",
      "14:54:19 5000\n",
      "14:55:00 6000\n",
      "14:55:40 7000\n",
      "14:56:21 8000\n",
      "14:57:01 9000\n",
      "14:57:42 10000\n",
      "14:58:23 11000\n",
      "14:59:04 12000\n",
      "14:59:46 13000\n",
      "15:00:28 14000\n"
     ]
    },
    {
     "data": {
      "text/html": [
       "<div>\n",
       "<style scoped>\n",
       "    .dataframe tbody tr th:only-of-type {\n",
       "        vertical-align: middle;\n",
       "    }\n",
       "\n",
       "    .dataframe tbody tr th {\n",
       "        vertical-align: top;\n",
       "    }\n",
       "\n",
       "    .dataframe thead th {\n",
       "        text-align: right;\n",
       "    }\n",
       "</style>\n",
       "<table border=\"1\" class=\"dataframe\">\n",
       "  <thead>\n",
       "    <tr style=\"text-align: right;\">\n",
       "      <th></th>\n",
       "      <th>id</th>\n",
       "      <th>canonical</th>\n",
       "      <th>type</th>\n",
       "      <th>centerX</th>\n",
       "      <th>centerY</th>\n",
       "      <th>neighbors</th>\n",
       "      <th>geometry</th>\n",
       "    </tr>\n",
       "  </thead>\n",
       "  <tbody>\n",
       "    <tr>\n",
       "      <th>0</th>\n",
       "      <td>36001263</td>\n",
       "      <td>NY Albany 263</td>\n",
       "      <td>ORIGINAL</td>\n",
       "      <td>+42.7272097</td>\n",
       "      <td>-073.7873353</td>\n",
       "      <td>36001265, 36001262, 36001253, 36001247, 360012...</td>\n",
       "      <td>MULTIPOLYGON (((-73.79031 42.72261, -73.79523 ...</td>\n",
       "    </tr>\n",
       "    <tr>\n",
       "      <th>1</th>\n",
       "      <td>36001232</td>\n",
       "      <td>NY Albany 232</td>\n",
       "      <td>ORIGINAL</td>\n",
       "      <td>+42.7295842</td>\n",
       "      <td>-073.7227157</td>\n",
       "      <td>36001346, 36001251, 36001250, 36001344, 360013...</td>\n",
       "      <td>MULTIPOLYGON (((-73.71364 42.72799, -73.70998 ...</td>\n",
       "    </tr>\n",
       "    <tr>\n",
       "      <th>2</th>\n",
       "      <td>36001342</td>\n",
       "      <td>NY Albany 342</td>\n",
       "      <td>ORIGINAL</td>\n",
       "      <td>+42.7348777</td>\n",
       "      <td>-073.7093285</td>\n",
       "      <td>36001341, 36001346, 36001339, 36001340, 360012...</td>\n",
       "      <td>MULTIPOLYGON (((-73.71210 42.73705, -73.71182 ...</td>\n",
       "    </tr>\n",
       "    <tr>\n",
       "      <th>3</th>\n",
       "      <td>36001341</td>\n",
       "      <td>NY Albany 341</td>\n",
       "      <td>ORIGINAL</td>\n",
       "      <td>+42.7355901</td>\n",
       "      <td>-073.7037615</td>\n",
       "      <td>36001342, 36001339, 36001233, 36001285</td>\n",
       "      <td>MULTIPOLYGON (((-73.70277 42.73421, -73.70857 ...</td>\n",
       "    </tr>\n",
       "    <tr>\n",
       "      <th>4</th>\n",
       "      <td>36001277</td>\n",
       "      <td>NY Albany 277</td>\n",
       "      <td>ORIGINAL</td>\n",
       "      <td>+42.7313271</td>\n",
       "      <td>-073.8385576</td>\n",
       "      <td>36001276, 36001275, 36001273</td>\n",
       "      <td>MULTIPOLYGON (((-73.82521 42.72768, -73.82606 ...</td>\n",
       "    </tr>\n",
       "  </tbody>\n",
       "</table>\n",
       "</div>"
      ],
      "text/plain": [
       "         id      canonical      type      centerX       centerY  \\\n",
       "0  36001263  NY Albany 263  ORIGINAL  +42.7272097  -073.7873353   \n",
       "1  36001232  NY Albany 232  ORIGINAL  +42.7295842  -073.7227157   \n",
       "2  36001342  NY Albany 342  ORIGINAL  +42.7348777  -073.7093285   \n",
       "3  36001341  NY Albany 341  ORIGINAL  +42.7355901  -073.7037615   \n",
       "4  36001277  NY Albany 277  ORIGINAL  +42.7313271  -073.8385576   \n",
       "\n",
       "                                           neighbors  \\\n",
       "0  36001265, 36001262, 36001253, 36001247, 360012...   \n",
       "1  36001346, 36001251, 36001250, 36001344, 360013...   \n",
       "2  36001341, 36001346, 36001339, 36001340, 360012...   \n",
       "3             36001342, 36001339, 36001233, 36001285   \n",
       "4                       36001276, 36001275, 36001273   \n",
       "\n",
       "                                            geometry  \n",
       "0  MULTIPOLYGON (((-73.79031 42.72261, -73.79523 ...  \n",
       "1  MULTIPOLYGON (((-73.71364 42.72799, -73.70998 ...  \n",
       "2  MULTIPOLYGON (((-73.71210 42.73705, -73.71182 ...  \n",
       "3  MULTIPOLYGON (((-73.70277 42.73421, -73.70857 ...  \n",
       "4  MULTIPOLYGON (((-73.82521 42.72768, -73.82606 ...  "
      ]
     },
     "execution_count": 35,
     "metadata": {},
     "output_type": "execute_result"
    }
   ],
   "source": [
    "### GENERATE NEIGHBORS\n",
    "\n",
    "file = \"./NY/ny_final.geojson\"  \n",
    "precincts = gp.read_file(file) # open file\n",
    "\n",
    "precincts[\"neighbors\"] = None  # add NEIGHBORS column\n",
    "\n",
    "for index, row in precincts.iterrows():\n",
    "    if index % 1000 == 0:\n",
    "        print (datetime.datetime.now().strftime(\"%H:%M:%S\"), index)\n",
    "        \n",
    "    neighbors = precincts[~precincts.geometry.disjoint(row.geometry)].id.tolist()\n",
    "    # remove own name from the list\n",
    "    neighbors = [ name for name in neighbors if row.id != name ]\n",
    "    # add names of neighbors as NEIGHBORS value\n",
    "    precincts.at[index, 'neighbors'] = \", \".join(neighbors)\n",
    "precincts.head()\n",
    "#precincts.to_file(\".NY/NY_neighbors.geojson\", driver='GeoJSON')"
   ]
  },
  {
   "cell_type": "code",
   "execution_count": 16,
   "metadata": {},
   "outputs": [],
   "source": [
    "def create_neighbors_df(neighbors, df):\n",
    "    neighbors = neighbors.split(',')\n",
    "    neighbors_df = df[df['id'].isin(neighbors)][['id', 'geometry']]\n",
    "    return neighbors_df "
   ]
  },
  {
   "cell_type": "code",
   "execution_count": 14,
   "metadata": {},
   "outputs": [
    {
     "data": {
      "text/html": [
       "<div>\n",
       "<style scoped>\n",
       "    .dataframe tbody tr th:only-of-type {\n",
       "        vertical-align: middle;\n",
       "    }\n",
       "\n",
       "    .dataframe tbody tr th {\n",
       "        vertical-align: top;\n",
       "    }\n",
       "\n",
       "    .dataframe thead th {\n",
       "        text-align: right;\n",
       "    }\n",
       "</style>\n",
       "<table border=\"1\" class=\"dataframe\">\n",
       "  <thead>\n",
       "    <tr style=\"text-align: right;\">\n",
       "      <th></th>\n",
       "      <th>id</th>\n",
       "      <th>neighbors</th>\n",
       "      <th>geometry</th>\n",
       "    </tr>\n",
       "  </thead>\n",
       "  <tbody>\n",
       "    <tr>\n",
       "      <th>0</th>\n",
       "      <td>36001263</td>\n",
       "      <td>36001262,36001253,36001247,36001252,36001265,3...</td>\n",
       "      <td>MULTIPOLYGON (((-73.79031 42.72261, -73.79523 ...</td>\n",
       "    </tr>\n",
       "    <tr>\n",
       "      <th>1</th>\n",
       "      <td>36001232</td>\n",
       "      <td>36001243,36001249,36001343,36001344,36001251,3...</td>\n",
       "      <td>MULTIPOLYGON (((-73.71364 42.72799, -73.71119 ...</td>\n",
       "    </tr>\n",
       "    <tr>\n",
       "      <th>2</th>\n",
       "      <td>36001342</td>\n",
       "      <td>36001233,36001243,36001340,36001341,36001339,3...</td>\n",
       "      <td>MULTIPOLYGON (((-73.71210 42.73705, -73.71182 ...</td>\n",
       "    </tr>\n",
       "    <tr>\n",
       "      <th>3</th>\n",
       "      <td>36001341</td>\n",
       "      <td>36001233,36001342,36001339,36001285</td>\n",
       "      <td>MULTIPOLYGON (((-73.70277 42.73421, -73.70857 ...</td>\n",
       "    </tr>\n",
       "    <tr>\n",
       "      <th>4</th>\n",
       "      <td>36001277</td>\n",
       "      <td>36001275,36001276,36001273</td>\n",
       "      <td>MULTIPOLYGON (((-73.82521 42.72768, -73.82606 ...</td>\n",
       "    </tr>\n",
       "  </tbody>\n",
       "</table>\n",
       "</div>"
      ],
      "text/plain": [
       "         id                                          neighbors  \\\n",
       "0  36001263  36001262,36001253,36001247,36001252,36001265,3...   \n",
       "1  36001232  36001243,36001249,36001343,36001344,36001251,3...   \n",
       "2  36001342  36001233,36001243,36001340,36001341,36001339,3...   \n",
       "3  36001341                36001233,36001342,36001339,36001285   \n",
       "4  36001277                         36001275,36001276,36001273   \n",
       "\n",
       "                                            geometry  \n",
       "0  MULTIPOLYGON (((-73.79031 42.72261, -73.79523 ...  \n",
       "1  MULTIPOLYGON (((-73.71364 42.72799, -73.71119 ...  \n",
       "2  MULTIPOLYGON (((-73.71210 42.73705, -73.71182 ...  \n",
       "3  MULTIPOLYGON (((-73.70277 42.73421, -73.70857 ...  \n",
       "4  MULTIPOLYGON (((-73.82521 42.72768, -73.82606 ...  "
      ]
     },
     "execution_count": 14,
     "metadata": {},
     "output_type": "execute_result"
    }
   ],
   "source": [
    "#INTERSECTIONS\n",
    "\n",
    "file = \"./NY/NY.geojson\"  \n",
    "precincts = gp.read_file(file) # open file\n",
    "precincts = precincts.drop(columns=['type', 'centerX', 'centerY', 'canonical'])\n",
    "precincts.head()"
   ]
  },
  {
   "cell_type": "code",
   "execution_count": 17,
   "metadata": {},
   "outputs": [
    {
     "name": "stdout",
     "output_type": "stream",
     "text": [
      "17:03:54 0\n",
      "17:04:40 1000\n",
      "17:05:41 2000\n",
      "17:06:38 3000\n",
      "17:07:26 4000\n",
      "17:08:05 5000\n",
      "17:08:59 6000\n",
      "17:10:00 7000\n",
      "17:10:40 8000\n",
      "17:11:31 9000\n",
      "17:12:35 10000\n",
      "17:13:19 11000\n",
      "17:14:14 12000\n",
      "17:15:14 13000\n",
      "17:16:18 14000\n"
     ]
    }
   ],
   "source": [
    "AREA_THRESHOLD = 1e-4\n",
    "intersections = gp.GeoDataFrame(crs = precincts.crs)\n",
    "\n",
    "for index, row in precincts.iterrows():\n",
    "    #For progress\n",
    "    if index % 1000 == 0:\n",
    "        print (datetime.datetime.now().strftime(\"%H:%M:%S\"), index)\n",
    "    neighbors = create_neighbors_df(row['neighbors'], precincts)\n",
    "    #print(neighbors)\n",
    "    # check if intersection occured\n",
    "    overlaps = neighbors[neighbors.geometry.overlaps(row.geometry)]['id'].tolist()\n",
    "    if len(overlaps) > 0:\n",
    "        # compare the area with threshold\n",
    "        for y in overlaps:\n",
    "            temp_area = gp.overlay(precincts.loc[precincts.id == y,], precincts.loc[precincts.id == row.id], how='intersection')\n",
    "            temp_area = temp_area.loc[temp_area.geometry.area >= AREA_THRESHOLD]\n",
    "            \n",
    "            if temp_area.shape[0] > 0:\n",
    "                intersections = gp.GeoDataFrame(pd.concat([temp_area, intersections], ignore_index=True),crs = precincts.crs)\n",
    "                intersections['sorted'] = intersections.apply(lambda y: sorted([y['id_1'],y['id_2']]), axis=1)\n",
    "                intersections['sorted'] = intersections.sorted.apply(lambda y: ''.join(y))\n",
    "                intersections = intersections.drop_duplicates('sorted')\n",
    "                intersections = intersections.reset_index()[['id_1','id_2','geometry']]\n",
    "                intersections = gp.GeoDataFrame(pd.concat([temp_area, intersections],ignore_index=True),crs=precincts.crs)"
   ]
  },
  {
   "cell_type": "code",
   "execution_count": 18,
   "metadata": {},
   "outputs": [
    {
     "data": {
      "text/plain": [
       "(0, 0)"
      ]
     },
     "execution_count": 18,
     "metadata": {},
     "output_type": "execute_result"
    }
   ],
   "source": [
    "intersections.shape"
   ]
  },
  {
   "cell_type": "code",
   "execution_count": 7,
   "metadata": {},
   "outputs": [
    {
     "data": {
      "text/html": [
       "<div>\n",
       "<style scoped>\n",
       "    .dataframe tbody tr th:only-of-type {\n",
       "        vertical-align: middle;\n",
       "    }\n",
       "\n",
       "    .dataframe tbody tr th {\n",
       "        vertical-align: top;\n",
       "    }\n",
       "\n",
       "    .dataframe thead th {\n",
       "        text-align: right;\n",
       "    }\n",
       "</style>\n",
       "<table border=\"1\" class=\"dataframe\">\n",
       "  <thead>\n",
       "    <tr style=\"text-align: right;\">\n",
       "      <th></th>\n",
       "      <th>geometry</th>\n",
       "    </tr>\n",
       "    <tr>\n",
       "      <th>type</th>\n",
       "      <th></th>\n",
       "    </tr>\n",
       "  </thead>\n",
       "  <tbody>\n",
       "    <tr>\n",
       "      <th>ORIGINAL</th>\n",
       "      <td>MULTIPOLYGON (((-74.25653 40.49296, -74.25909 ...</td>\n",
       "    </tr>\n",
       "  </tbody>\n",
       "</table>\n",
       "</div>"
      ],
      "text/plain": [
       "                                                   geometry\n",
       "type                                                       \n",
       "ORIGINAL  MULTIPOLYGON (((-74.25653 40.49296, -74.25909 ..."
      ]
     },
     "execution_count": 7,
     "metadata": {},
     "output_type": "execute_result"
    }
   ],
   "source": [
    "### GAPS\n",
    "\n",
    "file = \"./NY/ny_final.geojson\"\n",
    "precincts = gp.read_file(file)\n",
    "\n",
    "precincts_diss = precincts[['geometry', 'type']]\n",
    "precincts_diss = precincts_diss.dissolve(by='type')\n",
    "#precincts_diss = df.drop (columns = ['type', 'id', 'canonical', 'centerX', 'centerY', 'area'])\n",
    "\n",
    "precincts_diss.head()"
   ]
  },
  {
   "cell_type": "code",
   "execution_count": 8,
   "metadata": {},
   "outputs": [
    {
     "name": "stderr",
     "output_type": "stream",
     "text": [
      "C:\\ProgramData\\Anaconda3\\lib\\site-packages\\geopandas\\array.py:575: UserWarning: Only Polygon objects have interior rings. For other geometry types, None is returned.\n",
      "  \"Only Polygon objects have interior rings. For other \"\n"
     ]
    },
    {
     "ename": "TypeError",
     "evalue": "'NoneType' object is not subscriptable",
     "output_type": "error",
     "traceback": [
      "\u001b[1;31m---------------------------------------------------------------------------\u001b[0m",
      "\u001b[1;31mTypeError\u001b[0m                                 Traceback (most recent call last)",
      "\u001b[1;32m<ipython-input-8-6f017d85c267>\u001b[0m in \u001b[0;36m<module>\u001b[1;34m\u001b[0m\n\u001b[0;32m      6\u001b[0m         \u001b[1;32mcontinue\u001b[0m\u001b[1;33m\u001b[0m\u001b[1;33m\u001b[0m\u001b[0m\n\u001b[0;32m      7\u001b[0m     \u001b[1;31m#print(i[0].coords[:])\u001b[0m\u001b[1;33m\u001b[0m\u001b[1;33m\u001b[0m\u001b[1;33m\u001b[0m\u001b[0m\n\u001b[1;32m----> 8\u001b[1;33m     \u001b[0mgaps\u001b[0m\u001b[1;33m.\u001b[0m\u001b[0mappend\u001b[0m\u001b[1;33m(\u001b[0m\u001b[0mPolygon\u001b[0m\u001b[1;33m(\u001b[0m\u001b[0mi\u001b[0m\u001b[1;33m[\u001b[0m\u001b[1;36m0\u001b[0m\u001b[1;33m]\u001b[0m\u001b[1;33m)\u001b[0m\u001b[1;33m)\u001b[0m\u001b[1;33m\u001b[0m\u001b[1;33m\u001b[0m\u001b[0m\n\u001b[0m\u001b[0;32m      9\u001b[0m \u001b[1;33m\u001b[0m\u001b[0m\n\u001b[0;32m     10\u001b[0m \u001b[0mgaps\u001b[0m \u001b[1;33m=\u001b[0m \u001b[0mgp\u001b[0m\u001b[1;33m.\u001b[0m\u001b[0mGeoDataFrame\u001b[0m\u001b[1;33m(\u001b[0m\u001b[0mgeometry\u001b[0m \u001b[1;33m=\u001b[0m \u001b[0mgaps\u001b[0m\u001b[1;33m,\u001b[0m \u001b[0mcrs\u001b[0m \u001b[1;33m=\u001b[0m \u001b[0mprecincts\u001b[0m\u001b[1;33m.\u001b[0m\u001b[0mcrs\u001b[0m\u001b[1;33m)\u001b[0m\u001b[1;33m\u001b[0m\u001b[1;33m\u001b[0m\u001b[0m\n",
      "\u001b[1;31mTypeError\u001b[0m: 'NoneType' object is not subscriptable"
     ]
    }
   ],
   "source": [
    "interior = precincts_diss.interiors.values.tolist()\n",
    "\n",
    "gaps = []\n",
    "for i in interior:\n",
    "    if i == []:\n",
    "        continue\n",
    "    #print(i[0].coords[:])    \n",
    "    gaps.append(Polygon(i[0]))\n",
    "    \n",
    "gaps = gp.GeoDataFrame(geometry = gaps, crs = precincts.crs)\n",
    "gaps['feature_touches'] = gaps.geometry.apply(lambda y: precincts.loc[precincts.touches(y)]['id'].tolist())\n",
    "gaps.head()"
   ]
  },
  {
   "cell_type": "code",
   "execution_count": 16,
   "metadata": {},
   "outputs": [
    {
     "data": {
      "text/html": [
       "<div>\n",
       "<style scoped>\n",
       "    .dataframe tbody tr th:only-of-type {\n",
       "        vertical-align: middle;\n",
       "    }\n",
       "\n",
       "    .dataframe tbody tr th {\n",
       "        vertical-align: top;\n",
       "    }\n",
       "\n",
       "    .dataframe thead th {\n",
       "        text-align: right;\n",
       "    }\n",
       "</style>\n",
       "<table border=\"1\" class=\"dataframe\">\n",
       "  <thead>\n",
       "    <tr style=\"text-align: right;\">\n",
       "      <th></th>\n",
       "      <th>id</th>\n",
       "      <th>centerX</th>\n",
       "      <th>centerY</th>\n",
       "      <th>area</th>\n",
       "      <th>geometry</th>\n",
       "    </tr>\n",
       "  </thead>\n",
       "  <tbody>\n",
       "    <tr>\n",
       "      <th>0</th>\n",
       "      <td>PA</td>\n",
       "      <td>-77.6048035</td>\n",
       "      <td>41.1179355</td>\n",
       "      <td>12.7471968513065</td>\n",
       "      <td>MULTIPOLYGON (((-80.51935 41.84956, -80.51922 ...</td>\n",
       "    </tr>\n",
       "    <tr>\n",
       "      <th>1</th>\n",
       "      <td>KY</td>\n",
       "      <td>-85.76960750000001</td>\n",
       "      <td>37.82234</td>\n",
       "      <td>10.668081506716</td>\n",
       "      <td>MULTIPOLYGON (((-88.06133 37.50533, -88.06368 ...</td>\n",
       "    </tr>\n",
       "    <tr>\n",
       "      <th>2</th>\n",
       "      <td>NY</td>\n",
       "      <td>-75.77002999999999</td>\n",
       "      <td>42.7460485</td>\n",
       "      <td>15.58035125575651</td>\n",
       "      <td>MULTIPOLYGON (((-79.31214 42.68680, -79.14347 ...</td>\n",
       "    </tr>\n",
       "  </tbody>\n",
       "</table>\n",
       "</div>"
      ],
      "text/plain": [
       "   id             centerX     centerY               area  \\\n",
       "0  PA         -77.6048035  41.1179355   12.7471968513065   \n",
       "1  KY  -85.76960750000001    37.82234    10.668081506716   \n",
       "2  NY  -75.77002999999999  42.7460485  15.58035125575651   \n",
       "\n",
       "                                            geometry  \n",
       "0  MULTIPOLYGON (((-80.51935 41.84956, -80.51922 ...  \n",
       "1  MULTIPOLYGON (((-88.06133 37.50533, -88.06368 ...  \n",
       "2  MULTIPOLYGON (((-79.31214 42.68680, -79.14347 ...  "
      ]
     },
     "execution_count": 16,
     "metadata": {},
     "output_type": "execute_result"
    }
   ],
   "source": [
    "## MAP COVERAGE ERROR\n",
    "\n",
    "file_states = \"./States/states_boundary.geojson\"\n",
    "state_boundary = gp.read_file(file_states)\n",
    "state_boundary.head()"
   ]
  },
  {
   "cell_type": "code",
   "execution_count": 20,
   "metadata": {},
   "outputs": [
    {
     "data": {
      "text/html": [
       "<div>\n",
       "<style scoped>\n",
       "    .dataframe tbody tr th:only-of-type {\n",
       "        vertical-align: middle;\n",
       "    }\n",
       "\n",
       "    .dataframe tbody tr th {\n",
       "        vertical-align: top;\n",
       "    }\n",
       "\n",
       "    .dataframe thead th {\n",
       "        text-align: right;\n",
       "    }\n",
       "</style>\n",
       "<table border=\"1\" class=\"dataframe\">\n",
       "  <thead>\n",
       "    <tr style=\"text-align: right;\">\n",
       "      <th></th>\n",
       "      <th>id</th>\n",
       "      <th>canonical</th>\n",
       "      <th>type</th>\n",
       "      <th>centerX</th>\n",
       "      <th>centerY</th>\n",
       "      <th>neighbors</th>\n",
       "      <th>geometry</th>\n",
       "    </tr>\n",
       "  </thead>\n",
       "  <tbody>\n",
       "    <tr>\n",
       "      <th>0</th>\n",
       "      <td>36001263</td>\n",
       "      <td>NY Albany 263</td>\n",
       "      <td>ORIGINAL</td>\n",
       "      <td>+42.7272097</td>\n",
       "      <td>-073.7873353</td>\n",
       "      <td>36001262,36001253,36001247,36001252,36001265,3...</td>\n",
       "      <td>MULTIPOLYGON (((-73.79031 42.72261, -73.79523 ...</td>\n",
       "    </tr>\n",
       "    <tr>\n",
       "      <th>1</th>\n",
       "      <td>36001232</td>\n",
       "      <td>NY Albany 232</td>\n",
       "      <td>ORIGINAL</td>\n",
       "      <td>+42.7295842</td>\n",
       "      <td>-073.7227157</td>\n",
       "      <td>36001243,36001249,36001343,36001344,36001251,3...</td>\n",
       "      <td>MULTIPOLYGON (((-73.71364 42.72799, -73.70998 ...</td>\n",
       "    </tr>\n",
       "  </tbody>\n",
       "</table>\n",
       "</div>"
      ],
      "text/plain": [
       "         id      canonical      type      centerX       centerY  \\\n",
       "0  36001263  NY Albany 263  ORIGINAL  +42.7272097  -073.7873353   \n",
       "1  36001232  NY Albany 232  ORIGINAL  +42.7295842  -073.7227157   \n",
       "\n",
       "                                           neighbors  \\\n",
       "0  36001262,36001253,36001247,36001252,36001265,3...   \n",
       "1  36001243,36001249,36001343,36001344,36001251,3...   \n",
       "\n",
       "                                            geometry  \n",
       "0  MULTIPOLYGON (((-73.79031 42.72261, -73.79523 ...  \n",
       "1  MULTIPOLYGON (((-73.71364 42.72799, -73.70998 ...  "
      ]
     },
     "execution_count": 20,
     "metadata": {},
     "output_type": "execute_result"
    }
   ],
   "source": [
    "file_precincts = \"./NY/NY_final.geojson\"\n",
    "precinct_boundary = gp.read_file(file_precincts)\n",
    "precinct_boundary.head(2)"
   ]
  },
  {
   "cell_type": "code",
   "execution_count": 21,
   "metadata": {},
   "outputs": [
    {
     "name": "stdout",
     "output_type": "stream",
     "text": [
      "Difference:  -4.911690818634073\n"
     ]
    }
   ],
   "source": [
    "#Check difference between two areas\n",
    "STATE = 'NY'\n",
    "state = state_boundary[state_boundary['id'] == STATE]\n",
    "state_area = state_boundary.at[1, 'area']\n",
    "precinct_area = 0\n",
    "for i, row in precinct_boundary.iterrows():\n",
    "    precinct_area += row.geometry.area\n",
    "#print(precinct_area)\n",
    "print(\"Difference: \", float(state_area) - float(precinct_area))"
   ]
  },
  {
   "cell_type": "code",
   "execution_count": 22,
   "metadata": {},
   "outputs": [
    {
     "data": {
      "text/html": [
       "<div>\n",
       "<style scoped>\n",
       "    .dataframe tbody tr th:only-of-type {\n",
       "        vertical-align: middle;\n",
       "    }\n",
       "\n",
       "    .dataframe tbody tr th {\n",
       "        vertical-align: top;\n",
       "    }\n",
       "\n",
       "    .dataframe thead th {\n",
       "        text-align: right;\n",
       "    }\n",
       "</style>\n",
       "<table border=\"1\" class=\"dataframe\">\n",
       "  <thead>\n",
       "    <tr style=\"text-align: right;\">\n",
       "      <th></th>\n",
       "      <th>geometry</th>\n",
       "    </tr>\n",
       "    <tr>\n",
       "      <th>type</th>\n",
       "      <th></th>\n",
       "    </tr>\n",
       "  </thead>\n",
       "  <tbody>\n",
       "    <tr>\n",
       "      <th>ORIGINAL</th>\n",
       "      <td>MULTIPOLYGON (((-74.25653 40.49296, -74.25909 ...</td>\n",
       "    </tr>\n",
       "  </tbody>\n",
       "</table>\n",
       "</div>"
      ],
      "text/plain": [
       "                                                   geometry\n",
       "type                                                       \n",
       "ORIGINAL  MULTIPOLYGON (((-74.25653 40.49296, -74.25909 ..."
      ]
     },
     "execution_count": 22,
     "metadata": {},
     "output_type": "execute_result"
    }
   ],
   "source": [
    "precinct_dissolved = precinct_boundary[['geometry', 'type']]\n",
    "precinct_dissolved = precinct_dissolved.dissolve(by='type')\n",
    "precinct_dissolved.head()"
   ]
  },
  {
   "cell_type": "code",
   "execution_count": 23,
   "metadata": {},
   "outputs": [],
   "source": [
    "difference = gp.overlay(state, precinct_dissolved, how = 'difference')"
   ]
  },
  {
   "cell_type": "code",
   "execution_count": 29,
   "metadata": {},
   "outputs": [
    {
     "name": "stdout",
     "output_type": "stream",
     "text": [
      "[]\n"
     ]
    }
   ],
   "source": [
    "THRESHOLD = 5e-4\n",
    "\n",
    "add_error_querry = (\"INSERT INTO mhaczynska.data_error \"\n",
    "               \"(ERROR_TYPE, PRECINCT, CENTER_X, CENTER_Y, STATE) \"\n",
    "               \"VALUES (%s, %s, %s, %s, %s)\")\n",
    "\n",
    "ERROR_COVERAGE_TYPE = 'COVERAGE'\n",
    "STATE = 'NY'\n",
    "coverage_error_data = []\n",
    "\n",
    "for multipolygon in difference.geometry:\n",
    "    for polygon in multipolygon:\n",
    "        #print(polygon.area)\n",
    "        if polygon.area > THRESHOLD:\n",
    "            bounds = polygon.bounds\n",
    "            centerX = round((bounds[0] + bounds[2]) / 2, 6)\n",
    "            centerY = round((bounds[1] + bounds[3]) / 2, 6)\n",
    "            coverage_row = (ERROR_COVERAGE_TYPE, None, centerX, centerY, STATE)\n",
    "            coverage_error_data.append(coverage_row)\n",
    "            \n",
    "#cursor.executemany(add_error_querry, coverage_error_data)\n",
    "#mydb.commit()           \n",
    "print(coverage_error_data)"
   ]
  },
  {
   "cell_type": "code",
   "execution_count": 24,
   "metadata": {},
   "outputs": [],
   "source": [
    "difference.to_file(\"./NY/NY_coverage_error.geojson\", driver='GeoJSON')"
   ]
  },
  {
   "cell_type": "code",
   "execution_count": 31,
   "metadata": {},
   "outputs": [
    {
     "name": "stdout",
     "output_type": "stream",
     "text": [
      "<mysql.connector.connection_cext.CMySQLConnection object at 0x0000020C7E34AD08>\n"
     ]
    }
   ],
   "source": [
    "#POPULATE DATABASE\n",
    "mydb = mysql.connector.connect(\n",
    "    host=\"mysql3.cs.stonybrook.edu\",\n",
    "    user='mhaczynska',\n",
    "    passwd=\"110670160\",\n",
    "    database = 'mhaczynska'    \n",
    ")\n",
    "\n",
    "cursor = mydb.cursor()\n",
    "print (mydb)"
   ]
  },
  {
   "cell_type": "code",
   "execution_count": 30,
   "metadata": {
    "scrolled": true
   },
   "outputs": [
    {
     "data": {
      "text/html": [
       "<div>\n",
       "<style scoped>\n",
       "    .dataframe tbody tr th:only-of-type {\n",
       "        vertical-align: middle;\n",
       "    }\n",
       "\n",
       "    .dataframe tbody tr th {\n",
       "        vertical-align: top;\n",
       "    }\n",
       "\n",
       "    .dataframe thead th {\n",
       "        text-align: right;\n",
       "    }\n",
       "</style>\n",
       "<table border=\"1\" class=\"dataframe\">\n",
       "  <thead>\n",
       "    <tr style=\"text-align: right;\">\n",
       "      <th></th>\n",
       "      <th>id</th>\n",
       "      <th>canonical</th>\n",
       "      <th>type</th>\n",
       "      <th>centerX</th>\n",
       "      <th>centerY</th>\n",
       "      <th>neighbors</th>\n",
       "      <th>geometry</th>\n",
       "    </tr>\n",
       "  </thead>\n",
       "  <tbody>\n",
       "    <tr>\n",
       "      <th>0</th>\n",
       "      <td>36001263</td>\n",
       "      <td>NY Albany 263</td>\n",
       "      <td>ORIGINAL</td>\n",
       "      <td>+42.7272097</td>\n",
       "      <td>-073.7873353</td>\n",
       "      <td>36001262,36001253,36001247,36001252,36001265,3...</td>\n",
       "      <td>MULTIPOLYGON (((-73.79031 42.72261, -73.79523 ...</td>\n",
       "    </tr>\n",
       "    <tr>\n",
       "      <th>1</th>\n",
       "      <td>36001232</td>\n",
       "      <td>NY Albany 232</td>\n",
       "      <td>ORIGINAL</td>\n",
       "      <td>+42.7295842</td>\n",
       "      <td>-073.7227157</td>\n",
       "      <td>36001243,36001249,36001343,36001344,36001251,3...</td>\n",
       "      <td>MULTIPOLYGON (((-73.71364 42.72799, -73.70998 ...</td>\n",
       "    </tr>\n",
       "    <tr>\n",
       "      <th>2</th>\n",
       "      <td>36001342</td>\n",
       "      <td>NY Albany 342</td>\n",
       "      <td>ORIGINAL</td>\n",
       "      <td>+42.7348777</td>\n",
       "      <td>-073.7093285</td>\n",
       "      <td>36001233,36001243,36001340,36001341,36001339,3...</td>\n",
       "      <td>MULTIPOLYGON (((-73.71210 42.73705, -73.71182 ...</td>\n",
       "    </tr>\n",
       "    <tr>\n",
       "      <th>3</th>\n",
       "      <td>36001341</td>\n",
       "      <td>NY Albany 341</td>\n",
       "      <td>ORIGINAL</td>\n",
       "      <td>+42.7355901</td>\n",
       "      <td>-073.7037615</td>\n",
       "      <td>36001233,36001342,36001339,36001285</td>\n",
       "      <td>MULTIPOLYGON (((-73.70277 42.73421, -73.70857 ...</td>\n",
       "    </tr>\n",
       "    <tr>\n",
       "      <th>4</th>\n",
       "      <td>36001277</td>\n",
       "      <td>NY Albany 277</td>\n",
       "      <td>ORIGINAL</td>\n",
       "      <td>+42.7313271</td>\n",
       "      <td>-073.8385576</td>\n",
       "      <td>36001275,36001276,36001273</td>\n",
       "      <td>MULTIPOLYGON (((-73.82521 42.72768, -73.82606 ...</td>\n",
       "    </tr>\n",
       "  </tbody>\n",
       "</table>\n",
       "</div>"
      ],
      "text/plain": [
       "         id      canonical      type      centerX       centerY  \\\n",
       "0  36001263  NY Albany 263  ORIGINAL  +42.7272097  -073.7873353   \n",
       "1  36001232  NY Albany 232  ORIGINAL  +42.7295842  -073.7227157   \n",
       "2  36001342  NY Albany 342  ORIGINAL  +42.7348777  -073.7093285   \n",
       "3  36001341  NY Albany 341  ORIGINAL  +42.7355901  -073.7037615   \n",
       "4  36001277  NY Albany 277  ORIGINAL  +42.7313271  -073.8385576   \n",
       "\n",
       "                                           neighbors  \\\n",
       "0  36001262,36001253,36001247,36001252,36001265,3...   \n",
       "1  36001243,36001249,36001343,36001344,36001251,3...   \n",
       "2  36001233,36001243,36001340,36001341,36001339,3...   \n",
       "3                36001233,36001342,36001339,36001285   \n",
       "4                         36001275,36001276,36001273   \n",
       "\n",
       "                                            geometry  \n",
       "0  MULTIPOLYGON (((-73.79031 42.72261, -73.79523 ...  \n",
       "1  MULTIPOLYGON (((-73.71364 42.72799, -73.70998 ...  \n",
       "2  MULTIPOLYGON (((-73.71210 42.73705, -73.71182 ...  \n",
       "3  MULTIPOLYGON (((-73.70277 42.73421, -73.70857 ...  \n",
       "4  MULTIPOLYGON (((-73.82521 42.72768, -73.82606 ...  "
      ]
     },
     "execution_count": 30,
     "metadata": {},
     "output_type": "execute_result"
    }
   ],
   "source": [
    "file = \"./NY/NY_final.geojson\"\n",
    "precincts = gp.read_file(file)\n",
    "precincts.head()\n"
   ]
  },
  {
   "cell_type": "code",
   "execution_count": 42,
   "metadata": {},
   "outputs": [],
   "source": [
    "add_precinct_querry = (\"INSERT INTO mhaczynska.precinct \"\n",
    "               \"(GEO_ID, NAME, STATE_NAME, CENTER_X, CENTER_Y, PRECINCT_TYPE, PRECINCT_GEOJSON) \"\n",
    "               \"VALUES (%s, %s, %s, %s, %s, %s, %s)\")\n",
    "\n",
    "update_precinct_querry = (\"UPDATE mhaczynska.precinct SET PRECINCT_GEOJSON = %s WHERE GEO_ID = %s\")\n",
    "\n",
    "state = 'NY'\n",
    "for index, row in precincts.iterrows():\n",
    "    geometry_str = row.geometry.__geo_interface__\n",
    "    geometry_str = json.dumps(geometry_str)     \n",
    "    precinct_data = (row['id'], row['canonical'], state, row['centerX'], row['centerY'], row['type'], geometry_str)\n",
    "    #update_precinct = (geometry_str, row['id'])\n",
    "    #print(precinct_data)\n",
    "    try:\n",
    "        cursor.execute(add_precinct_querry, precinct_data)\n",
    "        mydb.commit()\n",
    "    except:\n",
    "        pass\n",
    "    "
   ]
  },
  {
   "cell_type": "code",
   "execution_count": 43,
   "metadata": {},
   "outputs": [],
   "source": [
    "#ADD NEIGHBORS\n",
    "add_neighbor_querry = (\"INSERT INTO mhaczynska.neighbors \"\n",
    "               \"(PRECINCT, NEIGHBOR_GEOID) \"\n",
    "               \"VALUES (%s, %s)\")\n",
    "\n",
    "neighbor_data = []\n",
    "for index, row in precincts.iterrows():\n",
    "    neighbors = row['neighbors']\n",
    "    neighbors = neighbors.split(\",\")    \n",
    "    for neighbor in neighbors:\n",
    "        neighbor_row = (row['id'], neighbor.strip())\n",
    "        neighbor_data.append(neighbor_row)\n",
    "#print(neighbor_data)\n",
    "cursor.executemany(add_neighbor_querry, neighbor_data)\n",
    "mydb.commit()"
   ]
  },
  {
   "cell_type": "code",
   "execution_count": 47,
   "metadata": {},
   "outputs": [],
   "source": [
    "#ENCLOSED PRECINCTS\n",
    "\n",
    "add_error_querry = (\"INSERT INTO mhaczynska.data_error \"\n",
    "               \"(ERROR_TYPE, PRECINCT, CENTER_X, CENTER_Y, STATE) \"\n",
    "               \"VALUES (%s, %s, %s, %s, %s)\")\n",
    "\n",
    "update_enclosed_error_querry = \"UPDATE mhaczynska.data_error SET STATE = %s WHERE PRECINCT = %s\"\n",
    "\n",
    "ERROR_ECLOSED_TYPE = 'ENCLOSED'\n",
    "ERROR_MULTIPOLYGON_TYPE = 'MULTIPOLYGON'\n",
    "STATE = 'NY'\n",
    "enclosed_error_data = []\n",
    "multipolygon_error_data = []\n",
    "for index, row in precincts.iterrows():    \n",
    "    if  len(row.geometry) > 1:\n",
    "        multipolygon_row = (ERROR_MULTIPOLYGON_TYPE, row['id'], row['centerX'], row['centerY'], STATE)\n",
    "        multipolygon_error_data.append(multipolygon_row)\n",
    "    for i, polygon in enumerate(row.geometry):\n",
    "            #if i != 0:\n",
    "        interior_list = list(polygon.interiors)\n",
    "        if len(interior_list) > 0:\n",
    "            bounds = interior_list[0].bounds\n",
    "            centerX = round((bounds[0] + bounds[2]) / 2, 6)\n",
    "            centerY = round((bounds[1] + bounds[3]) / 2, 6)\n",
    "            enclosed_row = (ERROR_ECLOSED_TYPE, row['id'], centerY, centerX, STATE)\n",
    "            enclosed_error_data.append(enclosed_row)\n",
    "\n",
    "\n",
    "#print(enclosed_error_data)           \n",
    "#print(multipolygon_error_data)            \n",
    "cursor.executemany(add_error_querry, enclosed_error_data)\n",
    "mydb.commit()\n",
    "cursor.executemany(add_error_querry, multipolygon_error_data)\n",
    "mydb.commit()"
   ]
  },
  {
   "cell_type": "code",
   "execution_count": 52,
   "metadata": {},
   "outputs": [],
   "source": [
    "## OVERLAP \n",
    "add_error_querry = (\"INSERT INTO mhaczynska.data_error \"\n",
    "               \"(ERROR_TYPE, PRECINCT, CENTER_X, CENTER_Y, STATE) \"\n",
    "               \"VALUES (%s, %s, %s, %s, %s)\")\n",
    "\n",
    "update_enclosed_error_querry = \"UPDATE mhaczynska.data_error SET STATE = %s WHERE PRECINCT = %s and ERROR_TYPE = %s\"\n",
    "\n",
    "file = './NY/ny_intersection_points.geojson'\n",
    "intersections = gp.read_file(file)\n",
    "intersections_data = []\n",
    "ERROR_INTERSECTIONS_TYPE = 'OVERLAP'\n",
    "STATE = 'NY'\n",
    "for index, row in intersections.iterrows():\n",
    "    point = list(row.geometry.coords)\n",
    "    #intersection_row = (ERROR_INTERSECTIONS_TYPE, row['id'], point[0][1], point[0][0], STATE)\n",
    "    update_row = (STATE, row['id'], ERROR_INTERSECTIONS_TYPE)\n",
    "    intersections_data.append(update_row)\n",
    "\n",
    "cursor.executemany(update_enclosed_error_querry, intersections_data)\n",
    "mydb.commit()    \n",
    "#print(intersections_data)"
   ]
  },
  {
   "cell_type": "code",
   "execution_count": null,
   "metadata": {},
   "outputs": [],
   "source": [
    "cursor.close()\n",
    "mydb.close()"
   ]
  },
  {
   "cell_type": "code",
   "execution_count": 34,
   "metadata": {},
   "outputs": [
    {
     "data": {
      "text/html": [
       "<div>\n",
       "<style scoped>\n",
       "    .dataframe tbody tr th:only-of-type {\n",
       "        vertical-align: middle;\n",
       "    }\n",
       "\n",
       "    .dataframe tbody tr th {\n",
       "        vertical-align: top;\n",
       "    }\n",
       "\n",
       "    .dataframe thead th {\n",
       "        text-align: right;\n",
       "    }\n",
       "</style>\n",
       "<table border=\"1\" class=\"dataframe\">\n",
       "  <thead>\n",
       "    <tr style=\"text-align: right;\">\n",
       "      <th></th>\n",
       "      <th>id</th>\n",
       "      <th>canonical</th>\n",
       "      <th>type</th>\n",
       "      <th>centerX</th>\n",
       "      <th>centerY</th>\n",
       "      <th>neighbors</th>\n",
       "      <th>geometry</th>\n",
       "    </tr>\n",
       "  </thead>\n",
       "  <tbody>\n",
       "    <tr>\n",
       "      <th>220</th>\n",
       "      <td>360011</td>\n",
       "      <td>NY Albany 1</td>\n",
       "      <td>ORIGINAL</td>\n",
       "      <td>+42.6470787</td>\n",
       "      <td>-073.7609171</td>\n",
       "      <td>3600115,3600153,3600127,3600128,360012,3600165...</td>\n",
       "      <td>MULTIPOLYGON (((-73.75804 42.64685, -73.75650 ...</td>\n",
       "    </tr>\n",
       "  </tbody>\n",
       "</table>\n",
       "</div>"
      ],
      "text/plain": [
       "         id    canonical      type      centerX       centerY  \\\n",
       "220  360011  NY Albany 1  ORIGINAL  +42.6470787  -073.7609171   \n",
       "\n",
       "                                             neighbors  \\\n",
       "220  3600115,3600153,3600127,3600128,360012,3600165...   \n",
       "\n",
       "                                              geometry  \n",
       "220  MULTIPOLYGON (((-73.75804 42.64685, -73.75650 ...  "
      ]
     },
     "execution_count": 34,
     "metadata": {},
     "output_type": "execute_result"
    }
   ],
   "source": [
    "precincts[precincts['id'] == '360011'].head()"
   ]
  },
  {
   "cell_type": "code",
   "execution_count": 37,
   "metadata": {},
   "outputs": [
    {
     "data": {
      "text/plain": [
       "(14926, 7)"
      ]
     },
     "execution_count": 37,
     "metadata": {},
     "output_type": "execute_result"
    }
   ],
   "source": [
    "precincts.shape"
   ]
  },
  {
   "cell_type": "code",
   "execution_count": 39,
   "metadata": {},
   "outputs": [
    {
     "data": {
      "text/html": [
       "<div>\n",
       "<style scoped>\n",
       "    .dataframe tbody tr th:only-of-type {\n",
       "        vertical-align: middle;\n",
       "    }\n",
       "\n",
       "    .dataframe tbody tr th {\n",
       "        vertical-align: top;\n",
       "    }\n",
       "\n",
       "    .dataframe thead th {\n",
       "        text-align: right;\n",
       "    }\n",
       "</style>\n",
       "<table border=\"1\" class=\"dataframe\">\n",
       "  <thead>\n",
       "    <tr style=\"text-align: right;\">\n",
       "      <th></th>\n",
       "      <th>id</th>\n",
       "      <th>canonical</th>\n",
       "      <th>type</th>\n",
       "      <th>centerX</th>\n",
       "      <th>centerY</th>\n",
       "      <th>neighbors</th>\n",
       "      <th>geometry</th>\n",
       "    </tr>\n",
       "  </thead>\n",
       "  <tbody>\n",
       "  </tbody>\n",
       "</table>\n",
       "</div>"
      ],
      "text/plain": [
       "Empty GeoDataFrame\n",
       "Columns: [id, canonical, type, centerX, centerY, neighbors, geometry]\n",
       "Index: []"
      ]
     },
     "execution_count": 39,
     "metadata": {},
     "output_type": "execute_result"
    }
   ],
   "source": [
    "dup = precincts[precincts.duplicated()]\n",
    "dup.head()"
   ]
  },
  {
   "cell_type": "code",
   "execution_count": null,
   "metadata": {},
   "outputs": [],
   "source": []
  }
 ],
 "metadata": {
  "kernelspec": {
   "display_name": "Python 3",
   "language": "python",
   "name": "python3"
  },
  "language_info": {
   "codemirror_mode": {
    "name": "ipython",
    "version": 3
   },
   "file_extension": ".py",
   "mimetype": "text/x-python",
   "name": "python",
   "nbconvert_exporter": "python",
   "pygments_lexer": "ipython3",
   "version": "3.7.7"
  }
 },
 "nbformat": 4,
 "nbformat_minor": 4
}
